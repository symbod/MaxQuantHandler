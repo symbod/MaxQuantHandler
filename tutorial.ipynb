{
 "cells": [
  {
   "cell_type": "markdown",
   "metadata": {
    "collapsed": true
   },
   "source": [
    "# MaxQuant Handler (mqhandler package)"
   ]
  },
  {
   "cell_type": "markdown",
   "metadata": {},
   "source": [
    "## Install package"
   ]
  },
  {
   "cell_type": "code",
   "execution_count": null,
   "metadata": {},
   "outputs": [],
   "source": [
    "!pip install mqhandler"
   ]
  },
  {
   "cell_type": "markdown",
   "metadata": {},
   "source": [
    "## Run mqhandler"
   ]
  },
  {
   "cell_type": "markdown",
   "metadata": {},
   "source": [
    "### 1. Load Data"
   ]
  },
  {
   "cell_type": "markdown",
   "metadata": {},
   "source": [
    "#### 1.1 Imports"
   ]
  },
  {
   "cell_type": "code",
   "execution_count": 1,
   "metadata": {},
   "outputs": [],
   "source": [
    "import pandas as pd\n",
    "from mqhandler.mq_utils.runner_utils import find_delimiter"
   ]
  },
  {
   "cell_type": "markdown",
   "metadata": {},
   "source": [
    "#### 1.2 Specify File Path"
   ]
  },
  {
   "cell_type": "code",
   "execution_count": null,
   "metadata": {},
   "outputs": [],
   "source": [
    "file = \"/Users/lisiarend/Desktop/Hiwi/\""
   ]
  },
  {
   "cell_type": "markdown",
   "metadata": {},
   "source": [
    "#### 1.3 Load Your Data"
   ]
  },
  {
   "cell_type": "code",
   "execution_count": null,
   "metadata": {},
   "outputs": [],
   "source": [
    "data = pd.read_table(file, sep=find_delimiter(file)).fillna(\"\")\n",
    "data.head(5)"
   ]
  },
  {
   "cell_type": "markdown",
   "metadata": {},
   "source": [
    "### 2. Filter Protein IDs"
   ]
  },
  {
   "cell_type": "markdown",
   "metadata": {},
   "source": [
    "#### 2.1 Imports"
   ]
  },
  {
   "cell_type": "code",
   "execution_count": 2,
   "metadata": {},
   "outputs": [],
   "source": [
    "from mqhandler import filter_protein_ids as fi"
   ]
  },
  {
   "cell_type": "markdown",
   "metadata": {},
   "source": [
    "#### 2.2 Set Preferences"
   ]
  },
  {
   "cell_type": "code",
   "execution_count": 3,
   "metadata": {},
   "outputs": [],
   "source": [
    "organism = \"human\" # Specify organism the IDs should match to\n",
    "protein_column = \"Protein IDs\" # Name of column with protein IDs\n",
    "decoy = False # Bool to indicate if protein IDs from decoy fasta (REV__,CON__) should be kept\n",
    "reviewed = False # Bool to indicate if newly retrieved protein IDS should be reduced to reviewed ones\n",
    "keep_empty = False # Bool to indicate if empty ID cells should be kept or deleted\n",
    "return_log = True # Bool to indicate if a dictionary of logging dataframes should be returned"
   ]
  },
  {
   "cell_type": "markdown",
   "metadata": {},
   "source": [
    "#### 2.2 Run filter_protein_ids"
   ]
  },
  {
   "cell_type": "code",
   "execution_count": null,
   "metadata": {},
   "outputs": [],
   "source": [
    "fi_data, fi_log_dict = fi.filter_protein_ids(data = data, protein_column = protein_column, \n",
    "                                             organism = organism, decoy = decoy, keep_empty = keep_empty, \n",
    "                                             reviewed = reviewed, return_log = return_log)\n",
    "fi_data.head(5)"
   ]
  },
  {
   "cell_type": "markdown",
   "metadata": {},
   "source": [
    "#### 2.3 Inspect Logging"
   ]
  },
  {
   "cell_type": "code",
   "execution_count": null,
   "metadata": {},
   "outputs": [],
   "source": [
    "# TODO"
   ]
  },
  {
   "cell_type": "markdown",
   "metadata": {},
   "source": [
    "### 3. Remap Gene Names"
   ]
  },
  {
   "cell_type": "markdown",
   "metadata": {},
   "source": [
    "#### 3.1 Imports"
   ]
  },
  {
   "cell_type": "code",
   "execution_count": null,
   "metadata": {},
   "outputs": [],
   "source": [
    "from mqhandler import remap_genenames as rmg"
   ]
  },
  {
   "cell_type": "markdown",
   "metadata": {},
   "source": [
    "#### 3.2 Set Preferences"
   ]
  },
  {
   "cell_type": "code",
   "execution_count": 5,
   "metadata": {},
   "outputs": [],
   "source": [
    "mode = \"uniprot_primary\" # Mode of refilling. See below for more infos.\n",
    "protein_column = \"Protein IDs\" # Name of column with protein IDs\n",
    "gene_column = \"Gene Names\" # Name of column with gene names\n",
    "skip_filled = False # Bool to indicate if already filled gene names should be skipped\n",
    "organism = \"human\" # Specify organism the IDs should match to\n",
    "fasta = None # Path of Fasta file when mode all or fasta\n",
    "keep_empty = False # Bool to indicate if empty gene names cells should be kept or deleted\n",
    "res_column = None # Name of column for remap genenames results. If None, the gene_column will be overridden\n",
    "return_log = True # Bool to indicate if a dictionary of logging dataframes should be returned"
   ]
  },
  {
   "cell_type": "markdown",
   "metadata": {},
   "source": [
    "**Modes of refilling:**\n",
    "- all : Use primarly fasta infos and additionally uniprot infos.\n",
    "- fasta: Use information extracted from fasta headers.\n",
    "- uniprot: Use mapping information from uniprot and use all gene names.\n",
    "- uniprot_primary: Use mapping information from uniprot and only all primary gene names.\n",
    "- uniprot_one: Use mapping information from uniprot and only use most frequent single gene name."
   ]
  },
  {
   "cell_type": "markdown",
   "metadata": {},
   "source": [
    "#### 3.3 Run remap_genenames"
   ]
  },
  {
   "cell_type": "code",
   "execution_count": null,
   "metadata": {},
   "outputs": [],
   "source": [
    "rmg_data, rmg_log_dict = rgn.remap_genenames(data = fi_data, mode=mode, protein_column = protein_column,\n",
    "                                            gene_column = gene_column, skip_filled = skip_filled, organism = organism, \n",
    "                                             fasta = fasta, keep_empty = keep_empty, res_column = res_column, \n",
    "                                             return_log = return_log)"
   ]
  },
  {
   "cell_type": "markdown",
   "metadata": {},
   "source": [
    "#### 3.4 Inspect Logging"
   ]
  },
  {
   "cell_type": "code",
   "execution_count": null,
   "metadata": {},
   "outputs": [],
   "source": [
    "# TODO"
   ]
  },
  {
   "cell_type": "markdown",
   "metadata": {},
   "source": [
    "### 4. Reduce Gene Names"
   ]
  },
  {
   "cell_type": "markdown",
   "metadata": {},
   "source": [
    "#### 4.1 Imports"
   ]
  },
  {
   "cell_type": "code",
   "execution_count": null,
   "metadata": {},
   "outputs": [],
   "source": [
    "from mqhandler import reduce_genenames as rdg"
   ]
  },
  {
   "cell_type": "markdown",
   "metadata": {},
   "source": [
    "#### 4.2 Set Preferences"
   ]
  },
  {
   "cell_type": "code",
   "execution_count": null,
   "metadata": {},
   "outputs": [],
   "source": [
    "mode = \"ensembl\" # Mode of reduction. See below for more infos-\n",
    "gene_column = \"Gene Names\" # Name of column with gene names\n",
    "organism = \"human\" # Specify organism the IDs should match to\n",
    "res_column = False # Name of column of reduced gene names results. If None, the gene_column will be overridden\n",
    "keep_empty = False # Bool to indicate if empty reduced gene names cells should be kept or deleted\n",
    "HGNC_mode = None # Mode on how to selected the gene names in HGNC (mostfrequent, all)\n",
    "return_log = True # Bool to indicate if a dictionary of logging dataframes should be kept"
   ]
  },
  {
   "cell_type": "markdown",
   "metadata": {},
   "source": [
    "**Modes of reduction:**\n",
    "- ensembl : Use gProfiler to reduce gene names to those having a Ensembl ID\n",
    "- HGNC: Use HGNC database to reduce gene names to those having an entry in HGNC (only for human)\n",
    "- mygeneinfo: Use mygeneinfo database to reduce gene names to those having an entry in mygeneinfo\n",
    "- enrichment: Use gProfiler to reduce gene names to those having a functional annotation"
   ]
  },
  {
   "cell_type": "markdown",
   "metadata": {},
   "source": [
    "#### 4.3 Run reduce_genenames"
   ]
  },
  {
   "cell_type": "code",
   "execution_count": null,
   "metadata": {},
   "outputs": [],
   "source": [
    "rdg_data, rdg_log_dict = rdg.reduce_genenames(data = rmg_data, mode = mode, gene_column = gene_column, \n",
    "                                              organism = organism, res_column = res_column, keep_empty = keep_empty,\n",
    "                                             HGNC_mode = HGNC_mode, return_log = return_log)"
   ]
  },
  {
   "cell_type": "markdown",
   "metadata": {},
   "source": [
    "#### 4.4 Inspect Logging"
   ]
  },
  {
   "cell_type": "code",
   "execution_count": 6,
   "metadata": {},
   "outputs": [],
   "source": [
    "#TODO"
   ]
  },
  {
   "cell_type": "markdown",
   "metadata": {},
   "source": [
    "### 5. Map Orthologs"
   ]
  },
  {
   "cell_type": "markdown",
   "metadata": {},
   "source": [
    "#### 5.1 Imports"
   ]
  },
  {
   "cell_type": "code",
   "execution_count": null,
   "metadata": {},
   "outputs": [],
   "source": [
    "from mqhandler import map_orthologs as mo"
   ]
  },
  {
   "cell_type": "markdown",
   "metadata": {},
   "source": [
    "#### 5.2 Set Preferences"
   ]
  },
  {
   "cell_type": "code",
   "execution_count": null,
   "metadata": {},
   "outputs": [],
   "source": [
    "gene_column = \"Gene Names\" # Name of column with gene names\n",
    "organism = \"human\" # Specify organism the IDs match to\n",
    "tar_organism = \"\" # Specify organism the IDs should me mapped to\n",
    "keep_empty = False # Bool to indicate if empty ortholog gene names cells should be kept or deleted\n",
    "res_column = None # Name of column of orthologs gene names results. If None, the gene_column will be overridden\n",
    "return_log = True # Bool to indicate if a dictionary of logging dataframes should be kept"
   ]
  },
  {
   "cell_type": "markdown",
   "metadata": {},
   "source": [
    "#### 5.3 Run reduce_genenames"
   ]
  },
  {
   "cell_type": "code",
   "execution_count": null,
   "metadata": {},
   "outputs": [],
   "source": [
    "mo_data, mo_logging_dict = mo.map_orthologs(daa = data, gene_column = gene_column, organism = organism,\n",
    "                                           tar_organism = tar_organism, keep_empty = keep_empty, \n",
    "                                            res_column = res_column, return_log = return_log)"
   ]
  },
  {
   "cell_type": "markdown",
   "metadata": {},
   "source": [
    "#### 5.4 Inspect Logging"
   ]
  },
  {
   "cell_type": "code",
   "execution_count": null,
   "metadata": {},
   "outputs": [],
   "source": [
    "#TODO"
   ]
  }
 ],
 "metadata": {
  "kernelspec": {
   "display_name": "Python 3",
   "language": "python",
   "name": "python3"
  },
  "language_info": {
   "codemirror_mode": {
    "name": "ipython",
    "version": 3
   },
   "file_extension": ".py",
   "mimetype": "text/x-python",
   "name": "python",
   "nbconvert_exporter": "python",
   "pygments_lexer": "ipython3",
   "version": "3.8.2"
  }
 },
 "nbformat": 4,
 "nbformat_minor": 1
}
