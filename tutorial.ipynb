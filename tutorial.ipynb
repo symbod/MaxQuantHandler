{
 "cells": [
  {
   "cell_type": "markdown",
   "metadata": {
    "collapsed": true
   },
   "source": [
    "# Tutorial on How To Use The *mqhandler* Package\n",
    "\n",
    "In this tutorial, we will show how to use the different functionalities of the mqhandler. The mqhandler package comprises 4 functionalities:\n",
    "- filter protein IDs\n",
    "- remap gene names\n",
    "- reduce gene names\n",
    "- map orthologs\n",
    "\n",
    "In this tutorial, we will first load the data into a pandas dataframe. Then, the protein ids will be filtered, the gene names remapped and reduced to gene names having an Ensembl ID. Finally, we will map the gene names to human orthologs."
   ]
  },
  {
   "cell_type": "markdown",
   "metadata": {},
   "source": [
    "## Installation"
   ]
  },
  {
   "cell_type": "code",
   "execution_count": null,
   "metadata": {},
   "outputs": [],
   "source": [
    "# Install mqhandler python package\n",
    "import sys\n",
    "!{sys.executable} -m pip install mqhandler==0.0.20"
   ]
  },
  {
   "cell_type": "code",
   "execution_count": null,
   "metadata": {},
   "outputs": [],
   "source": [
    "from importlib.metadata import version\n",
    "version('mqhandler')"
   ]
  },
  {
   "cell_type": "markdown",
   "metadata": {},
   "source": [
    "## 1. Load Data\n",
    "\n",
    "In order to use the mqhandler functionalities, you need to load your data into a pandas dataframe. This could be a MaxQuant proteinGroups.txt output, a single column with protein IDs or any other matrix with a column of ids/gene names.\n",
    "\n",
    "In this tutorial, we will use proteomics data processed with MaxQuant."
   ]
  },
  {
   "cell_type": "markdown",
   "metadata": {},
   "source": [
    "#### 1.1 Imports"
   ]
  },
  {
   "cell_type": "code",
   "execution_count": null,
   "metadata": {},
   "outputs": [],
   "source": [
    "import pandas as pd\n",
    "from mqhandler.mq_utils.runner_utils import find_delimiter"
   ]
  },
  {
   "cell_type": "markdown",
   "metadata": {},
   "source": [
    "#### 1.2 Specify File Path"
   ]
  },
  {
   "cell_type": "code",
   "execution_count": null,
   "metadata": {},
   "outputs": [],
   "source": [
    "file = \"<file_path>\""
   ]
  },
  {
   "cell_type": "markdown",
   "metadata": {},
   "source": [
    "#### 1.3 Load Your Data"
   ]
  },
  {
   "cell_type": "code",
   "execution_count": null,
   "metadata": {},
   "outputs": [],
   "source": [
    "data = pd.read_table(file, sep=find_delimiter(file)).fillna(\"\")\n",
    "data.head(5)"
   ]
  },
  {
   "cell_type": "markdown",
   "metadata": {},
   "source": [
    "## 2. Filter Protein IDs\n",
    "\n",
    "For a protein assignment using MaxQuant, Fasta files are required. Since MaxQuant can also be used to run several data collectively, it can also happen that results are provided with protein IDs of several organisms. This method makes it possible to check the protein IDs for their organism by directly accessing the Uniprot database, and to remove incorrectly assigned IDs. Additionally, decoy (REV_) and contaminants (CON_) IDs and/or unreviewed protein IDs can be removed.\n",
    "\n",
    "\n",
    "First you need to import the method from the mqhandler package. Following the specification of a few parameters, the method can be called. The selected protein column is filtered and a new dataframe is returned. \n",
    "\n",
    "One might be interested to know how many IDs were filtered out, in total and per row. Therefore, with this call, you can generate 2 data frames that display this information as a table.\n",
    "\n",
    "In addition to the information as a table, it can also be displayed directly as plots with a simple call."
   ]
  },
  {
   "cell_type": "markdown",
   "metadata": {},
   "source": [
    "#### 2.1 Imports"
   ]
  },
  {
   "cell_type": "code",
   "execution_count": null,
   "metadata": {},
   "outputs": [],
   "source": [
    "from mqhandler import filter_ids as fi"
   ]
  },
  {
   "cell_type": "markdown",
   "metadata": {},
   "source": [
    "#### 2.2 Set Preferences"
   ]
  },
  {
   "cell_type": "code",
   "execution_count": null,
   "metadata": {},
   "outputs": [],
   "source": [
    "# mandatory\n",
    "protein_column = \"Protein IDs\" # Name of column with protein IDs\n",
    "\n",
    "# optional\n",
    "organism = \"rat\" # Specify organism the IDs should match to\n",
    "rev_con = False # Bool to indicate if protein IDs from decoy (REV__) and contaminants (CON__) should be kept\n",
    "reviewed = False # Bool to indicate if newly retrieved protein IDS should be reduced to reviewed ones\n",
    "keep_empty = False # Bool to indicate if empty ID cells should be kept or deleted\n",
    "res_column = None # Name of column for filer protein IDs results. If None, the protein_column will be overridden"
   ]
  },
  {
   "cell_type": "markdown",
   "metadata": {},
   "source": [
    "#### 2.2 Run filter_protein_ids"
   ]
  },
  {
   "cell_type": "code",
   "execution_count": null,
   "metadata": {},
   "outputs": [],
   "source": [
    "fi_data, fi_log_dict = fi.filter_protein_ids(data = data, protein_column = protein_column, \n",
    "                                             organism = organism, rev_con = rev_con, keep_empty = keep_empty, \n",
    "                                             reviewed = reviewed, res_column = res_column)\n",
    "fi_data.head(5)"
   ]
  },
  {
   "cell_type": "markdown",
   "metadata": {},
   "source": [
    "#### 2.3 Inspect Logging"
   ]
  },
  {
   "cell_type": "code",
   "execution_count": null,
   "metadata": {},
   "outputs": [],
   "source": [
    "from mqhandler.mq_utils import plotting as pt\n",
    "out_dir = \"<out_dir>\"\n",
    "pt.create_overview_plot(fi_log_dict[\"Overview_Log\"], out_dir = out_dir)"
   ]
  },
  {
   "cell_type": "code",
   "execution_count": null,
   "metadata": {},
   "outputs": [],
   "source": [
    "pt.create_filter_detailed_plot(fi_log_dict[\"Detailed_Log\"], organism = organism, \n",
    "                               reviewed = reviewed, decoy = rev_con, out_dir = out_dir)"
   ]
  },
  {
   "cell_type": "markdown",
   "metadata": {},
   "source": [
    "## 3. Remap Gene Names\n",
    "\n",
    "Besides protein IDs, gene names are also taken out of the respective Fasta files and mapped. These are needed for easier naming in plots and in analytical procedures such as enrichment analysis. Unfortunately, Fasta files are not always complete in terms of gene names.\n",
    "\n",
    "This method makes it possible to retrieve the assigned gene names based on the protein IDs with direct access to the Uniprot database and to fill the empty entries in the user file or even replace existing entries. There are multiple possible modes for which names should be taken.\n",
    "\n",
    "\n",
    "Again, you need to import the mqhandler's function and specify some preferences before running the method. The selected gene name column is remapped based on the protein ids column that has been specified. A dataframe including the remapped gene name column and all other columns of the original data is returned.\n",
    "\n",
    "Here, too, it is possible to subsequently obtain information on how many gene names were found for how many rows. This can also be displayed as a plot with a simple call.\n",
    "\n",
    "In this tutorial, we will call the remap gene names function on the data that has already been processed using the filter IDs method. "
   ]
  },
  {
   "cell_type": "markdown",
   "metadata": {},
   "source": [
    "#### 3.1 Imports"
   ]
  },
  {
   "cell_type": "code",
   "execution_count": null,
   "metadata": {},
   "outputs": [],
   "source": [
    "from mqhandler import remap_genenames as rmg"
   ]
  },
  {
   "cell_type": "markdown",
   "metadata": {},
   "source": [
    "#### 3.2 Set Preferences"
   ]
  },
  {
   "cell_type": "code",
   "execution_count": null,
   "metadata": {},
   "outputs": [],
   "source": [
    "# mandatory\n",
    "mode = \"uniprot_primary\" # Mode of refilling. See below for more infos.\n",
    "protein_column = \"Protein IDs\" # Name of column with protein IDs\n",
    "\n",
    "# optional\n",
    "gene_column = \"Gene names\" # Name of column with gene names\n",
    "skip_filled = False # Bool to indicate if already filled gene names should be skipped\n",
    "organism = \"rat\" # Specify organism the IDs should match to\n",
    "fasta = None # Path of Fasta file when mode all or fasta\n",
    "keep_empty = False # Bool to indicate if empty gene names cells should be kept or deleted\n",
    "res_column = None # Name of column for remap gene names results. If None, the gene_column will be overridden"
   ]
  },
  {
   "cell_type": "markdown",
   "metadata": {},
   "source": [
    "**Modes of refilling:**\n",
    "- all : Use primarly fasta infos and additionally uniprot infos.\n",
    "- fasta: Use information extracted from fasta headers.\n",
    "- uniprot: Use mapping information from uniprot and use all gene names.\n",
    "- uniprot_primary: Use mapping information from uniprot and only all primary gene names.\n",
    "- uniprot_one: Use mapping information from uniprot and only use most frequent single gene name."
   ]
  },
  {
   "cell_type": "markdown",
   "metadata": {},
   "source": [
    "#### 3.3 Run remap_genenames"
   ]
  },
  {
   "cell_type": "code",
   "execution_count": null,
   "metadata": {},
   "outputs": [],
   "source": [
    "rmg_data, rmg_log_dict = rmg.remap_genenames(data = fi_data, mode=mode, protein_column = protein_column,\n",
    "                                            gene_column = gene_column, skip_filled = skip_filled, organism = organism, \n",
    "                                             fasta = fasta, keep_empty = keep_empty, res_column = res_column)\n",
    "rmg_data.head(5)"
   ]
  },
  {
   "cell_type": "markdown",
   "metadata": {},
   "source": [
    "## 4. Reduce Gene Names\n",
    "\n",
    "A well-known problem with gene symbols is that they are not unique and slight changes in spelling can lead to problems. Often there are different gene symbols for the same gene in UniProt. Depending on which protein IDs you used to get the gene symbol, you can get multiple gene symbols for the same gene by using the previous remap function.\n",
    "\n",
    "This method makes it possible to reduce the gene symbols to a common gene symbol using different features and databases, thus preventing redundancy. There are multiple possible modes for which names should be taken. \n",
    "\n",
    "Again, you need to import the mqhandler's function and specify some preferences before running the method. A dataframe including the reduced gene name column and all other columns of the original data is returned.\n",
    "\n",
    "Here, too, it is possible to subsequently obtain information on how many gene names were reduced for how many rows. This can also be displayed as a plot with a simple call.\n",
    "\n",
    "In this tutorial, we will call the reduce gene names function on the data that has already been processed using the filter IDs and remap gene names method. "
   ]
  },
  {
   "cell_type": "markdown",
   "metadata": {},
   "source": [
    "#### 4.1 Imports"
   ]
  },
  {
   "cell_type": "code",
   "execution_count": null,
   "metadata": {},
   "outputs": [],
   "source": [
    "from mqhandler import reduce_genenames as rdg"
   ]
  },
  {
   "cell_type": "markdown",
   "metadata": {},
   "source": [
    "#### 4.2 Set Preferences"
   ]
  },
  {
   "cell_type": "code",
   "execution_count": null,
   "metadata": {},
   "outputs": [],
   "source": [
    "# mandatory\n",
    "mode = \"ensembl\" # Mode of reduction. See below for more infos-\n",
    "gene_column = \"Gene names\" # Name of column with gene names\n",
    "organism = \"rat\" # Specify organism the IDs should match to\n",
    "\n",
    "# optional\n",
    "res_column = False # Name of column of reduced gene names results. If None, the gene_column will be overridden\n",
    "keep_empty = False # Bool to indicate if empty reduced gene names cells should be kept or deleted\n",
    "HGNC_mode = None # Mode on how to reduce the gene names using HGNC (mostfrequent, all)"
   ]
  },
  {
   "cell_type": "markdown",
   "metadata": {},
   "source": [
    "**Modes of reduction:**\n",
    "- ensembl : Use gProfiler to reduce gene names to those having a Ensembl ID\n",
    "- HGNC: Use HGNC database to reduce gene names to those having an entry in HGNC (only for human)\n",
    "- mygeneinfo: Use mygeneinfo database to reduce gene names to those having an entry in mygeneinfo\n",
    "- enrichment: Use gProfiler to reduce gene names to those having a functional annotation"
   ]
  },
  {
   "cell_type": "markdown",
   "metadata": {},
   "source": [
    "#### 4.3 Run reduce_genenames"
   ]
  },
  {
   "cell_type": "code",
   "execution_count": null,
   "metadata": {},
   "outputs": [],
   "source": [
    "rdg_data, rdg_log_dict = rdg.reduce_genenames(data = rmg_data, mode = mode, gene_column = gene_column, \n",
    "                                              organism = organism, res_column = res_column, keep_empty = keep_empty,\n",
    "                                             HGNC_mode = HGNC_mode)\n",
    "rdg_data.head(5)"
   ]
  },
  {
   "cell_type": "markdown",
   "metadata": {},
   "source": [
    "#### 4.4 Inspect Logging"
   ]
  },
  {
   "cell_type": "code",
   "execution_count": null,
   "metadata": {},
   "outputs": [],
   "source": [
    "pt.create_overview_plot(rdg_log_dict[\"Overview_Log\"], out_dir = out_dir)"
   ]
  },
  {
   "cell_type": "code",
   "execution_count": null,
   "metadata": {},
   "outputs": [],
   "source": [
    "pt.create_reduced_detailed_plot(rdg_log_dict[\"Detailed_Log\"], out_dir = out_dir)"
   ]
  },
  {
   "cell_type": "markdown",
   "metadata": {},
   "source": [
    "## 5. Map Orthologs\n",
    "\n",
    "Suppose you want to compare data between organisms, for example if you want to do a review across several species, you come across a known problem. Gene names differ between species, making it necessary to map all IDs to a selected organism through an ortholog mapping.\n",
    "\n",
    "Using the commonly used gProfiler, this method simply maps the gene names from the current organism to the target organism.\n",
    "\n",
    "Again, you need to import the mqhandler's function and specify some preferences before running the method. The selected gene name column is mapped to its orthologs based on target organism that has been specified. A dataframe including the mapped ortholog gene names and all other columns of the original data is returned.\n",
    "\n",
    "Unfortunately, depending on the original and target organism, there are more or less cases where no orthologous gene could be found. For a simplified overview of how many cases this was the case, this method can be used to obtain this information.\n",
    "\n",
    "As with the previous tasks, the log information can be displayed in plots."
   ]
  },
  {
   "cell_type": "markdown",
   "metadata": {},
   "source": [
    "#### 5.1 Imports"
   ]
  },
  {
   "cell_type": "code",
   "execution_count": null,
   "metadata": {},
   "outputs": [],
   "source": [
    "from mqhandler import map_orthologs as mo"
   ]
  },
  {
   "cell_type": "markdown",
   "metadata": {},
   "source": [
    "#### 5.2 Set Preferences"
   ]
  },
  {
   "cell_type": "code",
   "execution_count": null,
   "metadata": {},
   "outputs": [],
   "source": [
    "# mandatory\n",
    "gene_column = \"Gene names\" # Name of column with gene names\n",
    "source_organism = \"rat\" # Specify organism the IDs match to\n",
    "tar_organism = \"human\" # Specify organism the IDs should me mapped to\n",
    "\n",
    "# optional\n",
    "keep_empty = False # Bool to indicate if empty ortholog gene names cells should be kept or deleted\n",
    "res_column = None # Name of column of orthologs gene names results. If None, the gene_column will be overridden"
   ]
  },
  {
   "cell_type": "markdown",
   "metadata": {},
   "source": [
    "#### 5.3 Run map_orthologs"
   ]
  },
  {
   "cell_type": "code",
   "execution_count": null,
   "metadata": {},
   "outputs": [],
   "source": [
    "mo_data, mo_log_dict = mo.map_orthologs(data = rdg_data, gene_column = gene_column, organism = source_organism,\n",
    "                                           tar_organism = tar_organism, keep_empty = keep_empty, \n",
    "                                            res_column = res_column)\n",
    "mo_data.head(5)"
   ]
  },
  {
   "cell_type": "markdown",
   "metadata": {},
   "source": [
    "#### 5.4 Inspect Logging"
   ]
  },
  {
   "cell_type": "code",
   "execution_count": null,
   "metadata": {},
   "outputs": [],
   "source": [
    "pt.create_overview_plot(mo_log_dict[\"Overview_Log\"], out_dir = out_dir)"
   ]
  },
  {
   "cell_type": "code",
   "execution_count": null,
   "metadata": {},
   "outputs": [],
   "source": [
    "pt.create_ortholog_detailed_plot(mo_log_dict[\"Detailed_Log\"], organism = organism, out_dir = out_dir)"
   ]
  },
  {
   "cell_type": "markdown",
   "metadata": {},
   "source": [
    "#  Test>"
   ]
  },
  {
   "cell_type": "code",
   "execution_count": 3,
   "metadata": {},
   "outputs": [],
   "source": [
    "import sys\n",
    "import pandas as pd\n",
    "from pathlib import Path\n",
    "sys.path.append(str(Path.cwd().parent))\n",
    "import intersection_analysis as ia"
   ]
  },
  {
   "cell_type": "code",
   "execution_count": 57,
   "metadata": {},
   "outputs": [],
   "source": [
    "files = [\n",
    "    pd.read_csv(\"../Paper/data/K_g.txt\", names=[\"gene\"]),\n",
    "    pd.read_csv(\"../Paper/data/L_g.txt\", names=[\"gene\"]),\n",
    "    pd.read_csv(\"../Paper/data/R_g.txt\", names=[\"gene\"]),\n",
    "    pd.read_csv(\"../Paper/data/O_g.txt\", names=[\"gene\"]),\n",
    "    \n",
    "]\n",
    "data = ia.load_multi_files(files=files, columns=None)"
   ]
  },
  {
   "cell_type": "code",
   "execution_count": 58,
   "metadata": {},
   "outputs": [],
   "source": [
    "intersections = ia.count_intersection(data, threshold=2)"
   ]
  },
  {
   "cell_type": "code",
   "execution_count": 59,
   "metadata": {},
   "outputs": [
    {
     "data": {
      "image/png": "[encoded data removed]",
      "text/plain": [
       "<Figure size 426.667x355.556 with 4 Axes>"
      ]
     },
     "metadata": {
      "needs_background": "light"
     },
     "output_type": "display_data"
    }
   ],
   "source": [
    "ia.plot_intersections(data, out_dir=\"\", file_type=\"png\")"
   ]
  },
  {
   "cell_type": "code",
   "execution_count": 12,
   "metadata": {},
   "outputs": [],
   "source": [
    "import requests"
   ]
  },
  {
   "cell_type": "code",
   "execution_count": 51,
   "metadata": {},
   "outputs": [],
   "source": [
    "url = 'https://api.drugst.one/create_network'\n",
    "myobj =  {\"network\":{'nodes': [{\"id\":gene, \"group\":\"gene\"} for gene in intersections[\"ID\"]]}}\n",
    "\n",
    "x = requests.post(url, json = myobj)"
   ]
  },
  {
   "cell_type": "code",
   "execution_count": 52,
   "metadata": {},
   "outputs": [
    {
     "data": {
      "text/plain": [
       "'https://drugst.one?id=e125b67015f848b1a2ef2a81c4b440ef'"
      ]
     },
     "execution_count": 52,
     "metadata": {},
     "output_type": "execute_result"
    }
   ],
   "source": [
    "\"https://drugst.one?id=\"+x.json()"
   ]
  },
  {
   "cell_type": "code",
   "execution_count": null,
   "metadata": {},
   "outputs": [],
   "source": []
  }
 ],
 "metadata": {
  "kernelspec": {
   "display_name": "Python 3 (ipykernel)",
   "language": "python",
   "name": "python3"
  },
  "language_info": {
   "codemirror_mode": {
    "name": "ipython",
    "version": 3
   },
   "file_extension": ".py",
   "mimetype": "text/x-python",
   "name": "python",
   "nbconvert_exporter": "python",
   "pygments_lexer": "ipython3",
   "version": "3.10.6"
  }
 },
 "nbformat": 4,
 "nbformat_minor": 1
}
