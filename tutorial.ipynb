{
 "cells": [
  {
   "cell_type": "markdown",
   "metadata": {
    "collapsed": true
   },
   "source": [
    "# MaxQuant Handler (mqhandler package)\n",
    "\n",
    "In this tutorial, we will show how to use the different functionalities of the mqhandler. The mqhandler package comprises 4 functionalities:\n",
    "- filter protein IDs\n",
    "- remap gene names\n",
    "- reduce gene names\n",
    "- map orthologs\n"
   ]
  },
  {
   "cell_type": "markdown",
   "metadata": {},
   "source": [
    "## Install package\n",
    "\n",
    "First of all, the mqhandler package needs to be installed."
   ]
  },
  {
   "cell_type": "code",
   "execution_count": 1,
   "metadata": {},
   "outputs": [
    {
     "name": "stdout",
     "output_type": "stream",
     "text": [
      "Collecting mqhandler\n",
      "  Downloading mqhandler-0.0.14.tar.gz (5.9 MB)\n",
      "\u001b[2K     \u001b[90m━━━━━━━━━━━━━━━━━━━━━━━━━━━━━━━━━━━━━━━━\u001b[0m \u001b[32m5.9/5.9 MB\u001b[0m \u001b[31m11.9 MB/s\u001b[0m eta \u001b[36m0:00:00\u001b[0m00:01\u001b[0m00:01\u001b[0m\n",
      "\u001b[?25h  Preparing metadata (setup.py) ... \u001b[?25ldone\n",
      "\u001b[?25hRequirement already satisfied: pandas>=1.2.0 in ./env/lib/python3.8/site-packages (from mqhandler) (1.5.1)\n",
      "Requirement already satisfied: requests>=2.26.0 in ./env/lib/python3.8/site-packages (from mqhandler) (2.28.1)\n",
      "Requirement already satisfied: gprofiler-official>=1.0.0 in ./env/lib/python3.8/site-packages (from mqhandler) (1.0.0)\n",
      "Requirement already satisfied: pytz>=2020.1 in ./env/lib/python3.8/site-packages (from pandas>=1.2.0->mqhandler) (2022.5)\n",
      "Requirement already satisfied: python-dateutil>=2.8.1 in ./env/lib/python3.8/site-packages (from pandas>=1.2.0->mqhandler) (2.8.2)\n",
      "Requirement already satisfied: numpy>=1.20.3 in ./env/lib/python3.8/site-packages (from pandas>=1.2.0->mqhandler) (1.23.4)\n",
      "Requirement already satisfied: urllib3<1.27,>=1.21.1 in ./env/lib/python3.8/site-packages (from requests>=2.26.0->mqhandler) (1.26.12)\n",
      "Requirement already satisfied: certifi>=2017.4.17 in ./env/lib/python3.8/site-packages (from requests>=2.26.0->mqhandler) (2022.9.24)\n",
      "Requirement already satisfied: idna<4,>=2.5 in ./env/lib/python3.8/site-packages (from requests>=2.26.0->mqhandler) (3.4)\n",
      "Requirement already satisfied: charset-normalizer<3,>=2 in ./env/lib/python3.8/site-packages (from requests>=2.26.0->mqhandler) (2.1.1)\n",
      "Requirement already satisfied: six>=1.5 in ./env/lib/python3.8/site-packages (from python-dateutil>=2.8.1->pandas>=1.2.0->mqhandler) (1.16.0)\n",
      "Installing collected packages: mqhandler\n",
      "\u001b[33m  DEPRECATION: mqhandler is being installed using the legacy 'setup.py install' method, because it does not have a 'pyproject.toml' and the 'wheel' package is not installed. pip 23.1 will enforce this behaviour change. A possible replacement is to enable the '--use-pep517' option. Discussion can be found at https://github.com/pypa/pip/issues/8559\u001b[0m\u001b[33m\n",
      "\u001b[0m  Running setup.py install for mqhandler ... \u001b[?25ldone\n",
      "\u001b[?25hSuccessfully installed mqhandler-0.0.14\n"
     ]
    }
   ],
   "source": [
    "!pip install mqhandler"
   ]
  },
  {
   "cell_type": "markdown",
   "metadata": {},
   "source": [
    "## Run mqhandler\n",
    "\n",
    "The mqhandler package comprises 4 functionalities:\n",
    "- filter protein ids\n",
    "- remap gene names\n",
    "- reduce gene names\n",
    "- map orthologs\n",
    "\n",
    "In this tutorial, we will first load the data into a pandas dataframe. Then, the protein ids will be filtered, the gene names remapped and reduced to gene names having an Ensembl ID. Finally, we will map the gene names to human orthologs."
   ]
  },
  {
   "cell_type": "markdown",
   "metadata": {},
   "source": [
    "### 1. Load Data\n",
    "\n",
    "In order to use the mqhandler functionalities, you need to load your data into a pandas dataframe. This could be a MaxQuant proteinGroups.txt output, a single column with protein IDs or any other matrix with a column of ids/gene names.\n",
    "\n",
    "In this tutorial, we will use proteomics data processed with MaxQuant."
   ]
  },
  {
   "cell_type": "markdown",
   "metadata": {},
   "source": [
    "#### 1.1 Imports"
   ]
  },
  {
   "cell_type": "code",
   "execution_count": 5,
   "metadata": {},
   "outputs": [],
   "source": [
    "import pandas as pd\n",
    "from mqhandler.mq_utils.runner_utils import find_delimiter"
   ]
  },
  {
   "cell_type": "markdown",
   "metadata": {},
   "source": [
    "#### 1.2 Specify File Path"
   ]
  },
  {
   "cell_type": "code",
   "execution_count": 6,
   "metadata": {},
   "outputs": [],
   "source": [
    "file = \"/Users/lisiarend/Desktop/Hiwi/proteomics_analysis/data/TMT_data/rat_plasma_diabetic/proteinGroups.txt\""
   ]
  },
  {
   "cell_type": "markdown",
   "metadata": {},
   "source": [
    "#### 1.3 Load Your Data"
   ]
  },
  {
   "cell_type": "code",
   "execution_count": 7,
   "metadata": {},
   "outputs": [
    {
     "data": {
      "text/html": [
       "<div>\n",
       "<style scoped>\n",
       "    .dataframe tbody tr th:only-of-type {\n",
       "        vertical-align: middle;\n",
       "    }\n",
       "\n",
       "    .dataframe tbody tr th {\n",
       "        vertical-align: top;\n",
       "    }\n",
       "\n",
       "    .dataframe thead th {\n",
       "        text-align: right;\n",
       "    }\n",
       "</style>\n",
       "<table border=\"1\" class=\"dataframe\">\n",
       "  <thead>\n",
       "    <tr style=\"text-align: right;\">\n",
       "      <th></th>\n",
       "      <th>Protein IDs</th>\n",
       "      <th>Majority protein IDs</th>\n",
       "      <th>Peptide counts (all)</th>\n",
       "      <th>Peptide counts (razor+unique)</th>\n",
       "      <th>Peptide counts (unique)</th>\n",
       "      <th>Protein names</th>\n",
       "      <th>Gene names</th>\n",
       "      <th>Fasta headers</th>\n",
       "      <th>Number of proteins</th>\n",
       "      <th>Peptides</th>\n",
       "      <th>...</th>\n",
       "      <th>Potential contaminant</th>\n",
       "      <th>id</th>\n",
       "      <th>Peptide IDs</th>\n",
       "      <th>Peptide is razor</th>\n",
       "      <th>Mod. peptide IDs</th>\n",
       "      <th>Evidence IDs</th>\n",
       "      <th>MS/MS IDs</th>\n",
       "      <th>Best MS/MS</th>\n",
       "      <th>Oxidation (M) site IDs</th>\n",
       "      <th>Oxidation (M) site positions</th>\n",
       "    </tr>\n",
       "  </thead>\n",
       "  <tbody>\n",
       "    <tr>\n",
       "      <th>0</th>\n",
       "      <td>A0A096MIU4;A0A0G2JXF3;Q4KLY0</td>\n",
       "      <td>A0A096MIU4;A0A0G2JXF3;Q4KLY0</td>\n",
       "      <td>1;1;1</td>\n",
       "      <td>1;1;1</td>\n",
       "      <td>1;1;1</td>\n",
       "      <td>Centrosomal protein of 63 kDa</td>\n",
       "      <td>Cep63</td>\n",
       "      <td>Cep63;Cep63;Cep63</td>\n",
       "      <td>3</td>\n",
       "      <td>1</td>\n",
       "      <td>...</td>\n",
       "      <td></td>\n",
       "      <td>0</td>\n",
       "      <td>4593</td>\n",
       "      <td>True</td>\n",
       "      <td>5107</td>\n",
       "      <td>82477;82478;82479;82480;82481;82482;82483;8248...</td>\n",
       "      <td>83043;83044;83045;83046;83047;83048</td>\n",
       "      <td>83044</td>\n",
       "      <td>0</td>\n",
       "      <td>130</td>\n",
       "    </tr>\n",
       "    <tr>\n",
       "      <th>1</th>\n",
       "      <td>A0A096MJJ4</td>\n",
       "      <td>A0A096MJJ4</td>\n",
       "      <td>1</td>\n",
       "      <td>1</td>\n",
       "      <td>1</td>\n",
       "      <td></td>\n",
       "      <td>Cfap58</td>\n",
       "      <td>Cfap58</td>\n",
       "      <td>1</td>\n",
       "      <td>1</td>\n",
       "      <td>...</td>\n",
       "      <td></td>\n",
       "      <td>1</td>\n",
       "      <td>6151</td>\n",
       "      <td>True</td>\n",
       "      <td>6824</td>\n",
       "      <td>112877;112878;112879</td>\n",
       "      <td>113370;113371</td>\n",
       "      <td>113370</td>\n",
       "      <td>1</td>\n",
       "      <td>460</td>\n",
       "    </tr>\n",
       "    <tr>\n",
       "      <th>2</th>\n",
       "      <td>A0A0G2K296;A0A096MJX4</td>\n",
       "      <td>A0A0G2K296;A0A096MJX4</td>\n",
       "      <td>1;1</td>\n",
       "      <td>1;1</td>\n",
       "      <td>1;1</td>\n",
       "      <td></td>\n",
       "      <td>Fsip2</td>\n",
       "      <td>Fsip2;Fsip2</td>\n",
       "      <td>2</td>\n",
       "      <td>1</td>\n",
       "      <td>...</td>\n",
       "      <td></td>\n",
       "      <td>2</td>\n",
       "      <td>6164</td>\n",
       "      <td>True</td>\n",
       "      <td>6839</td>\n",
       "      <td>113115;113116;113117;113118;113119;113120;1131...</td>\n",
       "      <td>113590;113591;113592;113593;113594;113595;1135...</td>\n",
       "      <td>113592</td>\n",
       "      <td>2;3</td>\n",
       "      <td>2856;2859</td>\n",
       "    </tr>\n",
       "    <tr>\n",
       "      <th>3</th>\n",
       "      <td>A0A096MJY6</td>\n",
       "      <td>A0A096MJY6</td>\n",
       "      <td>4</td>\n",
       "      <td>2</td>\n",
       "      <td>2</td>\n",
       "      <td></td>\n",
       "      <td>Gbe1</td>\n",
       "      <td>Gbe1</td>\n",
       "      <td>1</td>\n",
       "      <td>4</td>\n",
       "      <td>...</td>\n",
       "      <td></td>\n",
       "      <td>3</td>\n",
       "      <td>24;32;1921;3118</td>\n",
       "      <td>True;True;False;False</td>\n",
       "      <td>24;32;2121;3432</td>\n",
       "      <td>571;642;643;644;35177;56730</td>\n",
       "      <td>615;670;671;672;35510;57516</td>\n",
       "      <td>615;670;35510;57516</td>\n",
       "      <td></td>\n",
       "      <td></td>\n",
       "    </tr>\n",
       "    <tr>\n",
       "      <th>4</th>\n",
       "      <td>A0A096MK00</td>\n",
       "      <td>A0A096MK00</td>\n",
       "      <td>1</td>\n",
       "      <td>1</td>\n",
       "      <td>1</td>\n",
       "      <td></td>\n",
       "      <td></td>\n",
       "      <td>LOC103695128</td>\n",
       "      <td>1</td>\n",
       "      <td>1</td>\n",
       "      <td>...</td>\n",
       "      <td></td>\n",
       "      <td>4</td>\n",
       "      <td>1683</td>\n",
       "      <td>True</td>\n",
       "      <td>1850</td>\n",
       "      <td>30384;30385;30386;30387;30388;30389</td>\n",
       "      <td>30193;30194</td>\n",
       "      <td>30194</td>\n",
       "      <td></td>\n",
       "      <td></td>\n",
       "    </tr>\n",
       "  </tbody>\n",
       "</table>\n",
       "<p>5 rows × 318 columns</p>\n",
       "</div>"
      ],
      "text/plain": [
       "                    Protein IDs          Majority protein IDs  \\\n",
       "0  A0A096MIU4;A0A0G2JXF3;Q4KLY0  A0A096MIU4;A0A0G2JXF3;Q4KLY0   \n",
       "1                    A0A096MJJ4                    A0A096MJJ4   \n",
       "2         A0A0G2K296;A0A096MJX4         A0A0G2K296;A0A096MJX4   \n",
       "3                    A0A096MJY6                    A0A096MJY6   \n",
       "4                    A0A096MK00                    A0A096MK00   \n",
       "\n",
       "  Peptide counts (all) Peptide counts (razor+unique) Peptide counts (unique)  \\\n",
       "0                1;1;1                         1;1;1                   1;1;1   \n",
       "1                    1                             1                       1   \n",
       "2                  1;1                           1;1                     1;1   \n",
       "3                    4                             2                       2   \n",
       "4                    1                             1                       1   \n",
       "\n",
       "                   Protein names Gene names      Fasta headers  \\\n",
       "0  Centrosomal protein of 63 kDa      Cep63  Cep63;Cep63;Cep63   \n",
       "1                                    Cfap58             Cfap58   \n",
       "2                                     Fsip2        Fsip2;Fsip2   \n",
       "3                                      Gbe1               Gbe1   \n",
       "4                                                 LOC103695128   \n",
       "\n",
       "   Number of proteins  Peptides  ...  Potential contaminant  id  \\\n",
       "0                   3         1  ...                          0   \n",
       "1                   1         1  ...                          1   \n",
       "2                   2         1  ...                          2   \n",
       "3                   1         4  ...                          3   \n",
       "4                   1         1  ...                          4   \n",
       "\n",
       "       Peptide IDs       Peptide is razor  Mod. peptide IDs  \\\n",
       "0             4593                   True              5107   \n",
       "1             6151                   True              6824   \n",
       "2             6164                   True              6839   \n",
       "3  24;32;1921;3118  True;True;False;False   24;32;2121;3432   \n",
       "4             1683                   True              1850   \n",
       "\n",
       "                                        Evidence IDs  \\\n",
       "0  82477;82478;82479;82480;82481;82482;82483;8248...   \n",
       "1                               112877;112878;112879   \n",
       "2  113115;113116;113117;113118;113119;113120;1131...   \n",
       "3                        571;642;643;644;35177;56730   \n",
       "4                30384;30385;30386;30387;30388;30389   \n",
       "\n",
       "                                           MS/MS IDs           Best MS/MS  \\\n",
       "0                83043;83044;83045;83046;83047;83048                83044   \n",
       "1                                      113370;113371               113370   \n",
       "2  113590;113591;113592;113593;113594;113595;1135...               113592   \n",
       "3                        615;670;671;672;35510;57516  615;670;35510;57516   \n",
       "4                                        30193;30194                30194   \n",
       "\n",
       "   Oxidation (M) site IDs  Oxidation (M) site positions  \n",
       "0                       0                           130  \n",
       "1                       1                           460  \n",
       "2                     2;3                     2856;2859  \n",
       "3                                                        \n",
       "4                                                        \n",
       "\n",
       "[5 rows x 318 columns]"
      ]
     },
     "execution_count": 7,
     "metadata": {},
     "output_type": "execute_result"
    }
   ],
   "source": [
    "data = pd.read_table(file, sep=find_delimiter(file)).fillna(\"\")\n",
    "data.head(5)"
   ]
  },
  {
   "cell_type": "markdown",
   "metadata": {},
   "source": [
    "### 2. Filter Protein IDs\n",
    "\n",
    "The MaxQuant output occasionally may contain proteins from other species or decoy names. The **filter protein IDs** method has been developed for this. It can filter the protein ids by organism, by decoy names, and by reviewed status.\n",
    "\n",
    "\n",
    "First you need to import the method from the mqhandler package. Following the specification of a few parameters, the method can be called. The selected protein column is filtered and a new dataframe is returned. Additionally, a log dictionary of two dataframes is returned containing the protein IDs that have been eliminated. Finally, additional functions are provided to visualize the amount of elimiated proteins as well as the reasons for their deletion."
   ]
  },
  {
   "cell_type": "markdown",
   "metadata": {},
   "source": [
    "#### 2.1 Imports"
   ]
  },
  {
   "cell_type": "code",
   "execution_count": 15,
   "metadata": {},
   "outputs": [],
   "source": [
    "from mqhandler import filter_ids as fi"
   ]
  },
  {
   "cell_type": "markdown",
   "metadata": {},
   "source": [
    "#### 2.2 Set Preferences"
   ]
  },
  {
   "cell_type": "code",
   "execution_count": 16,
   "metadata": {},
   "outputs": [],
   "source": [
    "organism = \"human\" # Specify organism the IDs should match to\n",
    "protein_column = \"Protein IDs\" # Name of column with protein IDs\n",
    "decoy = False # Bool to indicate if protein IDs from decoy fasta (REV__,CON__) should be kept\n",
    "reviewed = False # Bool to indicate if newly retrieved protein IDS should be reduced to reviewed ones\n",
    "keep_empty = False # Bool to indicate if empty ID cells should be kept or deleted\n",
    "return_log = True # Bool to indicate if a dictionary of logging dataframes should be returned"
   ]
  },
  {
   "cell_type": "markdown",
   "metadata": {},
   "source": [
    "#### 2.2 Run filter_protein_ids"
   ]
  },
  {
   "cell_type": "code",
   "execution_count": 17,
   "metadata": {},
   "outputs": [
    {
     "ename": "TypeError",
     "evalue": "filter_protein_ids() got an unexpected keyword argument 'protein_column'",
     "output_type": "error",
     "traceback": [
      "\u001b[0;31m---------------------------------------------------------------------------\u001b[0m",
      "\u001b[0;31mTypeError\u001b[0m                                 Traceback (most recent call last)",
      "\u001b[0;32m<ipython-input-17-a7d23a5783f6>\u001b[0m in \u001b[0;36m<module>\u001b[0;34m\u001b[0m\n\u001b[0;32m----> 1\u001b[0;31m fi_data, fi_log_dict = fi.filter_protein_ids(data = data, protein_column = protein_column, \n\u001b[0m\u001b[1;32m      2\u001b[0m                                              \u001b[0morganism\u001b[0m \u001b[0;34m=\u001b[0m \u001b[0morganism\u001b[0m\u001b[0;34m,\u001b[0m \u001b[0mdecoy\u001b[0m \u001b[0;34m=\u001b[0m \u001b[0mdecoy\u001b[0m\u001b[0;34m,\u001b[0m \u001b[0mkeep_empty\u001b[0m \u001b[0;34m=\u001b[0m \u001b[0mkeep_empty\u001b[0m\u001b[0;34m,\u001b[0m\u001b[0;34m\u001b[0m\u001b[0;34m\u001b[0m\u001b[0m\n\u001b[1;32m      3\u001b[0m                                              reviewed = reviewed, return_log = return_log)\n\u001b[1;32m      4\u001b[0m \u001b[0mfi_data\u001b[0m\u001b[0;34m.\u001b[0m\u001b[0mhead\u001b[0m\u001b[0;34m(\u001b[0m\u001b[0;36m5\u001b[0m\u001b[0;34m)\u001b[0m\u001b[0;34m\u001b[0m\u001b[0;34m\u001b[0m\u001b[0m\n",
      "\u001b[0;31mTypeError\u001b[0m: filter_protein_ids() got an unexpected keyword argument 'protein_column'"
     ]
    }
   ],
   "source": [
    "fi_data, fi_log_dict = fi.filter_protein_ids(data = data, protein_column = protein_column, \n",
    "                                             organism = organism, decoy = decoy, keep_empty = keep_empty, \n",
    "                                             reviewed = reviewed, return_log = return_log)\n",
    "fi_data.head(5)"
   ]
  },
  {
   "cell_type": "markdown",
   "metadata": {},
   "source": [
    "#### 2.3 Inspect Logging"
   ]
  },
  {
   "cell_type": "code",
   "execution_count": null,
   "metadata": {},
   "outputs": [],
   "source": [
    "# TODO"
   ]
  },
  {
   "cell_type": "markdown",
   "metadata": {},
   "source": [
    "### 3. Remap Gene Names\n",
    "\n",
    "After filtering the protein ids, some ids have been removed but possibly their corresponding gene names remain in the gene name column of the MaxQuant output. Additionally, the gene name column for a specific protein group is empty but rather needed for downstream analysis such as Gene Set Enrichment Analysis (GSEA). For this, the function **remap gene names** has been created. \n",
    "\n",
    "Again, you need to import the mqhandler's function and specify some preferences before running the method. The selected gene name column is remapped based on the protein ids column that has been specified. A dataframe including the remapped gene name column and all other columns of the original data is returned. Additionally, a log dictionary of two dataframes is returned containing the gene names that have been remapped. Finally, additional functions are provided to visualize the amount of remapped gene names.\n",
    "\n",
    "In this tutorial, we will call the remap gene names function on the data that has already been processed using the filter IDs method. "
   ]
  },
  {
   "cell_type": "markdown",
   "metadata": {},
   "source": [
    "#### 3.1 Imports"
   ]
  },
  {
   "cell_type": "code",
   "execution_count": 18,
   "metadata": {},
   "outputs": [],
   "source": [
    "from mqhandler import remap_genenames as rmg"
   ]
  },
  {
   "cell_type": "markdown",
   "metadata": {},
   "source": [
    "#### 3.2 Set Preferences"
   ]
  },
  {
   "cell_type": "code",
   "execution_count": 19,
   "metadata": {},
   "outputs": [],
   "source": [
    "mode = \"uniprot_primary\" # Mode of refilling. See below for more infos.\n",
    "protein_column = \"Protein IDs\" # Name of column with protein IDs\n",
    "gene_column = \"Gene Names\" # Name of column with gene names\n",
    "skip_filled = False # Bool to indicate if already filled gene names should be skipped\n",
    "organism = \"human\" # Specify organism the IDs should match to\n",
    "fasta = None # Path of Fasta file when mode all or fasta\n",
    "keep_empty = False # Bool to indicate if empty gene names cells should be kept or deleted\n",
    "res_column = None # Name of column for remap genenames results. If None, the gene_column will be overridden\n",
    "return_log = True # Bool to indicate if a dictionary of logging dataframes should be returned"
   ]
  },
  {
   "cell_type": "markdown",
   "metadata": {},
   "source": [
    "**Modes of refilling:**\n",
    "- all : Use primarly fasta infos and additionally uniprot infos.\n",
    "- fasta: Use information extracted from fasta headers.\n",
    "- uniprot: Use mapping information from uniprot and use all gene names.\n",
    "- uniprot_primary: Use mapping information from uniprot and only all primary gene names.\n",
    "- uniprot_one: Use mapping information from uniprot and only use most frequent single gene name."
   ]
  },
  {
   "cell_type": "markdown",
   "metadata": {},
   "source": [
    "#### 3.3 Run remap_genenames"
   ]
  },
  {
   "cell_type": "code",
   "execution_count": null,
   "metadata": {},
   "outputs": [],
   "source": [
    "rmg_data, rmg_log_dict = rgn.remap_genenames(data = fi_data, mode=mode, protein_column = protein_column,\n",
    "                                            gene_column = gene_column, skip_filled = skip_filled, organism = organism, \n",
    "                                             fasta = fasta, keep_empty = keep_empty, res_column = res_column, \n",
    "                                             return_log = return_log)"
   ]
  },
  {
   "cell_type": "markdown",
   "metadata": {},
   "source": [
    "#### 3.4 Inspect Logging"
   ]
  },
  {
   "cell_type": "code",
   "execution_count": null,
   "metadata": {},
   "outputs": [],
   "source": [
    "# TODO"
   ]
  },
  {
   "cell_type": "markdown",
   "metadata": {},
   "source": [
    "### 4. Reduce Gene Names"
   ]
  },
  {
   "cell_type": "markdown",
   "metadata": {},
   "source": [
    "#### 4.1 Imports"
   ]
  },
  {
   "cell_type": "code",
   "execution_count": null,
   "metadata": {},
   "outputs": [],
   "source": [
    "from mqhandler import reduce_genenames as rdg"
   ]
  },
  {
   "cell_type": "markdown",
   "metadata": {},
   "source": [
    "#### 4.2 Set Preferences"
   ]
  },
  {
   "cell_type": "code",
   "execution_count": null,
   "metadata": {},
   "outputs": [],
   "source": [
    "mode = \"ensembl\" # Mode of reduction. See below for more infos-\n",
    "gene_column = \"Gene Names\" # Name of column with gene names\n",
    "organism = \"human\" # Specify organism the IDs should match to\n",
    "res_column = False # Name of column of reduced gene names results. If None, the gene_column will be overridden\n",
    "keep_empty = False # Bool to indicate if empty reduced gene names cells should be kept or deleted\n",
    "HGNC_mode = None # Mode on how to selected the gene names in HGNC (mostfrequent, all)\n",
    "return_log = True # Bool to indicate if a dictionary of logging dataframes should be kept"
   ]
  },
  {
   "cell_type": "markdown",
   "metadata": {},
   "source": [
    "**Modes of reduction:**\n",
    "- ensembl : Use gProfiler to reduce gene names to those having a Ensembl ID\n",
    "- HGNC: Use HGNC database to reduce gene names to those having an entry in HGNC (only for human)\n",
    "- mygeneinfo: Use mygeneinfo database to reduce gene names to those having an entry in mygeneinfo\n",
    "- enrichment: Use gProfiler to reduce gene names to those having a functional annotation"
   ]
  },
  {
   "cell_type": "markdown",
   "metadata": {},
   "source": [
    "#### 4.3 Run reduce_genenames"
   ]
  },
  {
   "cell_type": "code",
   "execution_count": null,
   "metadata": {},
   "outputs": [],
   "source": [
    "rdg_data, rdg_log_dict = rdg.reduce_genenames(data = rmg_data, mode = mode, gene_column = gene_column, \n",
    "                                              organism = organism, res_column = res_column, keep_empty = keep_empty,\n",
    "                                             HGNC_mode = HGNC_mode, return_log = return_log)"
   ]
  },
  {
   "cell_type": "markdown",
   "metadata": {},
   "source": [
    "#### 4.4 Inspect Logging"
   ]
  },
  {
   "cell_type": "code",
   "execution_count": 6,
   "metadata": {},
   "outputs": [],
   "source": [
    "#TODO"
   ]
  },
  {
   "cell_type": "markdown",
   "metadata": {},
   "source": [
    "### 5. Map Orthologs"
   ]
  },
  {
   "cell_type": "markdown",
   "metadata": {},
   "source": [
    "#### 5.1 Imports"
   ]
  },
  {
   "cell_type": "code",
   "execution_count": null,
   "metadata": {},
   "outputs": [],
   "source": [
    "from mqhandler import map_orthologs as mo"
   ]
  },
  {
   "cell_type": "markdown",
   "metadata": {},
   "source": [
    "#### 5.2 Set Preferences"
   ]
  },
  {
   "cell_type": "code",
   "execution_count": null,
   "metadata": {},
   "outputs": [],
   "source": [
    "gene_column = \"Gene Names\" # Name of column with gene names\n",
    "organism = \"human\" # Specify organism the IDs match to\n",
    "tar_organism = \"\" # Specify organism the IDs should me mapped to\n",
    "keep_empty = False # Bool to indicate if empty ortholog gene names cells should be kept or deleted\n",
    "res_column = None # Name of column of orthologs gene names results. If None, the gene_column will be overridden\n",
    "return_log = True # Bool to indicate if a dictionary of logging dataframes should be kept"
   ]
  },
  {
   "cell_type": "markdown",
   "metadata": {},
   "source": [
    "#### 5.3 Run reduce_genenames"
   ]
  },
  {
   "cell_type": "code",
   "execution_count": null,
   "metadata": {},
   "outputs": [],
   "source": [
    "mo_data, mo_logging_dict = mo.map_orthologs(daa = data, gene_column = gene_column, organism = organism,\n",
    "                                           tar_organism = tar_organism, keep_empty = keep_empty, \n",
    "                                            res_column = res_column, return_log = return_log)"
   ]
  },
  {
   "cell_type": "markdown",
   "metadata": {},
   "source": [
    "#### 5.4 Inspect Logging"
   ]
  },
  {
   "cell_type": "code",
   "execution_count": null,
   "metadata": {},
   "outputs": [],
   "source": [
    "#TODO"
   ]
  }
 ],
 "metadata": {
  "kernelspec": {
   "display_name": "Python 3",
   "language": "python",
   "name": "python3"
  },
  "language_info": {
   "codemirror_mode": {
    "name": "ipython",
    "version": 3
   },
   "file_extension": ".py",
   "mimetype": "text/x-python",
   "name": "python",
   "nbconvert_exporter": "python",
   "pygments_lexer": "ipython3",
   "version": "3.8.2"
  }
 },
 "nbformat": 4,
 "nbformat_minor": 1
}
