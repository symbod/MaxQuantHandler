{
 "cells": [
  {
   "cell_type": "markdown",
   "metadata": {
    "collapsed": true
   },
   "source": [
    "# Tutorial on How To Use The *mqhandler* Package\n",
    "\n",
    "In this tutorial, we will show how to use the different functionalities of the mqhandler. The mqhandler package comprises 4 functionalities:\n",
    "- filter protein IDs\n",
    "- remap gene names\n",
    "- reduce gene names\n",
    "- map orthologs\n",
    "\n",
    "In this tutorial, we will first load the data into a pandas dataframe. Then, the protein ids will be filtered, the gene names remapped and reduced to gene names having an Ensembl ID. Finally, we will map the gene names to human orthologs."
   ]
  },
  {
   "cell_type": "markdown",
   "metadata": {},
   "source": [
    "## Installation"
   ]
  },
  {
   "cell_type": "code",
   "execution_count": 6,
   "metadata": {},
   "outputs": [
    {
     "name": "stdout",
     "output_type": "stream",
     "text": [
      "Defaulting to user installation because normal site-packages is not writeable\n",
      "Collecting proharmed\n",
      "  Downloading proharmed-0.0.3.tar.gz (33 kB)\n",
      "  Preparing metadata (setup.py) ... \u001b[?25ldone\n",
      "\u001b[?25hRequirement already satisfied: pandas>=1.2.0 in /usr/local/lib/python3.8/dist-packages (from proharmed) (1.4.2)\n",
      "Requirement already satisfied: requests>=2.26.0 in /usr/local/lib/python3.8/dist-packages (from proharmed) (2.27.1)\n",
      "Requirement already satisfied: gprofiler-official>=1.0.0 in /home/kikky/.local/lib/python3.8/site-packages (from proharmed) (1.0.0)\n",
      "Requirement already satisfied: httplib2>=0.21.0 in /home/kikky/.local/lib/python3.8/site-packages (from proharmed) (0.21.0)\n",
      "Requirement already satisfied: ratelimit>=2.2.1 in /home/kikky/.local/lib/python3.8/site-packages (from proharmed) (2.2.1)\n",
      "Requirement already satisfied: mygene in /home/kikky/.local/lib/python3.8/site-packages (from proharmed) (3.2.2)\n",
      "Requirement already satisfied: seaborn in /home/kikky/.local/lib/python3.8/site-packages (from proharmed) (0.11.0)\n",
      "Requirement already satisfied: psutil in /usr/lib/python3/dist-packages (from proharmed) (5.5.1)\n",
      "Requirement already satisfied: upsetplot in /home/kikky/.local/lib/python3.8/site-packages (from proharmed) (0.6.1)\n",
      "Requirement already satisfied: pyparsing!=3.0.0,!=3.0.1,!=3.0.2,!=3.0.3,<4,>=2.4.2 in /usr/lib/python3/dist-packages (from httplib2>=0.21.0->proharmed) (2.4.6)\n",
      "Requirement already satisfied: python-dateutil>=2.8.1 in /usr/local/lib/python3.8/dist-packages (from pandas>=1.2.0->proharmed) (2.8.2)\n",
      "Requirement already satisfied: numpy>=1.18.5 in /usr/local/lib/python3.8/dist-packages (from pandas>=1.2.0->proharmed) (1.22.0)\n",
      "Requirement already satisfied: pytz>=2020.1 in /usr/local/lib/python3.8/dist-packages (from pandas>=1.2.0->proharmed) (2022.1)\n",
      "Requirement already satisfied: idna<4,>=2.5 in /home/kikky/.local/lib/python3.8/site-packages (from requests>=2.26.0->proharmed) (2.10)\n",
      "Requirement already satisfied: urllib3<1.27,>=1.21.1 in /home/kikky/.local/lib/python3.8/site-packages (from requests>=2.26.0->proharmed) (1.26.6)\n",
      "Requirement already satisfied: charset-normalizer~=2.0.0 in /usr/local/lib/python3.8/dist-packages (from requests>=2.26.0->proharmed) (2.0.12)\n",
      "Requirement already satisfied: certifi>=2017.4.17 in /home/kikky/.local/lib/python3.8/site-packages (from requests>=2.26.0->proharmed) (2021.5.30)\n",
      "Requirement already satisfied: biothings-client>=0.2.6 in /home/kikky/.local/lib/python3.8/site-packages (from mygene->proharmed) (0.2.6)\n",
      "Requirement already satisfied: scipy>=1.0 in /usr/local/lib/python3.8/dist-packages (from seaborn->proharmed) (1.7.3)\n",
      "Requirement already satisfied: matplotlib>=2.2 in /home/kikky/.local/lib/python3.8/site-packages (from seaborn->proharmed) (3.4.2)\n",
      "Requirement already satisfied: pillow>=6.2.0 in /home/kikky/.local/lib/python3.8/site-packages (from matplotlib>=2.2->seaborn->proharmed) (8.4.0)\n",
      "Requirement already satisfied: kiwisolver>=1.0.1 in /home/kikky/.local/lib/python3.8/site-packages (from matplotlib>=2.2->seaborn->proharmed) (1.3.1)\n",
      "Requirement already satisfied: cycler>=0.10 in /home/kikky/.local/lib/python3.8/site-packages (from matplotlib>=2.2->seaborn->proharmed) (0.10.0)\n",
      "Requirement already satisfied: six>=1.5 in /usr/lib/python3/dist-packages (from python-dateutil>=2.8.1->pandas>=1.2.0->proharmed) (1.14.0)\n",
      "Building wheels for collected packages: proharmed\n",
      "  Building wheel for proharmed (setup.py) ... \u001b[?25ldone\n",
      "\u001b[?25h  Created wheel for proharmed: filename=proharmed-0.0.3-py3-none-any.whl size=36509 sha256=29c26550d27d1c8bba4ff24c858d5aea5c80594bcef91838094fc4e6b1161f99\n",
      "  Stored in directory: /home/kikky/.cache/pip/wheels/e8/b9/1f/d67b69ed2d1df40ad35434054bf8ad706caf22528999e2a0d7\n",
      "Successfully built proharmed\n",
      "Installing collected packages: proharmed\n",
      "Successfully installed proharmed-0.0.3\n",
      "\u001b[33mWARNING: You are using pip version 21.3.1; however, version 23.0 is available.\n",
      "You should consider upgrading via the '/usr/bin/python3 -m pip install --upgrade pip' command.\u001b[0m\n"
     ]
    }
   ],
   "source": [
    "# Install mqhandler python package\n",
    "import sys\n",
    "!{sys.executable} -m pip install proharmed"
   ]
  },
  {
   "cell_type": "code",
   "execution_count": 7,
   "metadata": {},
   "outputs": [
    {
     "data": {
      "text/plain": [
       "'0.0.3'"
      ]
     },
     "execution_count": 7,
     "metadata": {},
     "output_type": "execute_result"
    }
   ],
   "source": [
    "from importlib.metadata import version\n",
    "version('proharmed')"
   ]
  },
  {
   "cell_type": "markdown",
   "metadata": {},
   "source": [
    "## 1. Load Data\n",
    "\n",
    "In order to use the mqhandler functionalities, you need to load your data into a pandas dataframe. This could be a MaxQuant proteinGroups.txt output, a single column with protein IDs or any other matrix with a column of ids/gene names.\n",
    "\n",
    "In this tutorial, we will use proteomics data processed with MaxQuant."
   ]
  },
  {
   "cell_type": "markdown",
   "metadata": {},
   "source": [
    "#### 1.1 Imports"
   ]
  },
  {
   "cell_type": "code",
   "execution_count": 3,
   "metadata": {},
   "outputs": [],
   "source": [
    "import pandas as pd\n",
    "from proharmed.mq_utils.runner_utils import find_delimiter"
   ]
  },
  {
   "cell_type": "markdown",
   "metadata": {},
   "source": [
    "#### 1.2 Specify File Path"
   ]
  },
  {
   "cell_type": "code",
   "execution_count": 4,
   "metadata": {},
   "outputs": [],
   "source": [
    "file = \"<file_path>\""
   ]
  },
  {
   "cell_type": "markdown",
   "metadata": {},
   "source": [
    "#### 1.3 Load Your Data"
   ]
  },
  {
   "cell_type": "code",
   "execution_count": 5,
   "metadata": {},
   "outputs": [
    {
     "ename": "FileNotFoundError",
     "evalue": "[Errno 2] No such file or directory: '<file_path>'",
     "output_type": "error",
     "traceback": [
      "\u001b[0;31m---------------------------------------------------------------------------\u001b[0m",
      "\u001b[0;31mFileNotFoundError\u001b[0m                         Traceback (most recent call last)",
      "\u001b[0;32m<ipython-input-5-b6a754ca6b5d>\u001b[0m in \u001b[0;36m<module>\u001b[0;34m\u001b[0m\n\u001b[0;32m----> 1\u001b[0;31m \u001b[0mdata\u001b[0m \u001b[0;34m=\u001b[0m \u001b[0mpd\u001b[0m\u001b[0;34m.\u001b[0m\u001b[0mread_table\u001b[0m\u001b[0;34m(\u001b[0m\u001b[0mfile\u001b[0m\u001b[0;34m,\u001b[0m \u001b[0msep\u001b[0m\u001b[0;34m=\u001b[0m\u001b[0mfind_delimiter\u001b[0m\u001b[0;34m(\u001b[0m\u001b[0mfile\u001b[0m\u001b[0;34m)\u001b[0m\u001b[0;34m)\u001b[0m\u001b[0;34m.\u001b[0m\u001b[0mfillna\u001b[0m\u001b[0;34m(\u001b[0m\u001b[0;34m\"\"\u001b[0m\u001b[0;34m)\u001b[0m\u001b[0;34m\u001b[0m\u001b[0;34m\u001b[0m\u001b[0m\n\u001b[0m\u001b[1;32m      2\u001b[0m \u001b[0mdata\u001b[0m\u001b[0;34m.\u001b[0m\u001b[0mhead\u001b[0m\u001b[0;34m(\u001b[0m\u001b[0;36m5\u001b[0m\u001b[0;34m)\u001b[0m\u001b[0;34m\u001b[0m\u001b[0;34m\u001b[0m\u001b[0m\n",
      "\u001b[0;32m~/.local/lib/python3.8/site-packages/mqhandler/mq_utils/runner_utils.py\u001b[0m in \u001b[0;36mfind_delimiter\u001b[0;34m(filename)\u001b[0m\n\u001b[1;32m    132\u001b[0m \u001b[0;32mdef\u001b[0m \u001b[0mfind_delimiter\u001b[0m\u001b[0;34m(\u001b[0m\u001b[0mfilename\u001b[0m\u001b[0;34m)\u001b[0m\u001b[0;34m:\u001b[0m\u001b[0;34m\u001b[0m\u001b[0;34m\u001b[0m\u001b[0m\n\u001b[1;32m    133\u001b[0m     \u001b[0msniffer\u001b[0m \u001b[0;34m=\u001b[0m \u001b[0mcsv\u001b[0m\u001b[0;34m.\u001b[0m\u001b[0mSniffer\u001b[0m\u001b[0;34m(\u001b[0m\u001b[0;34m)\u001b[0m\u001b[0;34m\u001b[0m\u001b[0;34m\u001b[0m\u001b[0m\n\u001b[0;32m--> 134\u001b[0;31m     \u001b[0;32mwith\u001b[0m \u001b[0mopen\u001b[0m\u001b[0;34m(\u001b[0m\u001b[0mfilename\u001b[0m\u001b[0;34m)\u001b[0m \u001b[0;32mas\u001b[0m \u001b[0mfp\u001b[0m\u001b[0;34m:\u001b[0m\u001b[0;34m\u001b[0m\u001b[0;34m\u001b[0m\u001b[0m\n\u001b[0m\u001b[1;32m    135\u001b[0m         \u001b[0mdelimiter\u001b[0m \u001b[0;34m=\u001b[0m \u001b[0msniffer\u001b[0m\u001b[0;34m.\u001b[0m\u001b[0msniff\u001b[0m\u001b[0;34m(\u001b[0m\u001b[0mfp\u001b[0m\u001b[0;34m.\u001b[0m\u001b[0mreadline\u001b[0m\u001b[0;34m(\u001b[0m\u001b[0;34m)\u001b[0m\u001b[0;34m)\u001b[0m\u001b[0;34m.\u001b[0m\u001b[0mdelimiter\u001b[0m\u001b[0;34m\u001b[0m\u001b[0;34m\u001b[0m\u001b[0m\n\u001b[1;32m    136\u001b[0m     \u001b[0;32mreturn\u001b[0m \u001b[0mdelimiter\u001b[0m\u001b[0;34m\u001b[0m\u001b[0;34m\u001b[0m\u001b[0m\n",
      "\u001b[0;31mFileNotFoundError\u001b[0m: [Errno 2] No such file or directory: '<file_path>'"
     ]
    }
   ],
   "source": [
    "data = pd.read_table(file, sep=find_delimiter(file)).fillna(\"\")\n",
    "data.head(5)"
   ]
  },
  {
   "cell_type": "markdown",
   "metadata": {},
   "source": [
    "## 2. Filter Protein IDs\n",
    "\n",
    "For a protein assignment using MaxQuant, Fasta files are required. Since MaxQuant can also be used to run several data collectively, it can also happen that results are provided with protein IDs of several organisms. This method makes it possible to check the protein IDs for their organism by directly accessing the Uniprot database, and to remove incorrectly assigned IDs. Additionally, decoy (REV_) and contaminants (CON_) IDs and/or unreviewed protein IDs can be removed.\n",
    "\n",
    "\n",
    "First you need to import the method from the mqhandler package. Following the specification of a few parameters, the method can be called. The selected protein column is filtered and a new dataframe is returned. \n",
    "\n",
    "One might be interested to know how many IDs were filtered out, in total and per row. Therefore, with this call, you can generate 2 data frames that display this information as a table.\n",
    "\n",
    "In addition to the information as a table, it can also be displayed directly as plots with a simple call."
   ]
  },
  {
   "cell_type": "markdown",
   "metadata": {},
   "source": [
    "#### 2.1 Imports"
   ]
  },
  {
   "cell_type": "code",
   "execution_count": null,
   "metadata": {},
   "outputs": [],
   "source": [
    "from proharmed import filter_ids as fi"
   ]
  },
  {
   "cell_type": "markdown",
   "metadata": {},
   "source": [
    "#### 2.2 Set Preferences"
   ]
  },
  {
   "cell_type": "code",
   "execution_count": null,
   "metadata": {},
   "outputs": [],
   "source": [
    "# mandatory\n",
    "protein_column = \"Protein IDs\" # Name of column with protein IDs\n",
    "\n",
    "# optional\n",
    "organism = \"rat\" # Specify organism the IDs should match to\n",
    "rev_con = False # Bool to indicate if protein IDs from decoy (REV__) and contaminants (CON__) should be kept\n",
    "reviewed = False # Bool to indicate if newly retrieved protein IDS should be reduced to reviewed ones\n",
    "keep_empty = False # Bool to indicate if empty ID cells should be kept or deleted\n",
    "res_column = None # Name of column for filer protein IDs results. If None, the protein_column will be overridden"
   ]
  },
  {
   "cell_type": "markdown",
   "metadata": {},
   "source": [
    "#### 2.2 Run filter_protein_ids"
   ]
  },
  {
   "cell_type": "code",
   "execution_count": null,
   "metadata": {},
   "outputs": [],
   "source": [
    "fi_data, fi_log_dict = fi.filter_protein_ids(data = data, protein_column = protein_column, \n",
    "                                             organism = organism, rev_con = rev_con, keep_empty = keep_empty, \n",
    "                                             reviewed = reviewed, res_column = res_column)\n",
    "fi_data.head(5)"
   ]
  },
  {
   "cell_type": "markdown",
   "metadata": {},
   "source": [
    "#### 2.3 Inspect Logging"
   ]
  },
  {
   "cell_type": "code",
   "execution_count": null,
   "metadata": {},
   "outputs": [],
   "source": [
    "from proharmed.mq_utils import plotting as pt\n",
    "out_dir = \"<out_dir>\"\n",
    "pt.create_overview_plot(fi_log_dict[\"Overview_Log\"], out_dir = out_dir)"
   ]
  },
  {
   "cell_type": "code",
   "execution_count": null,
   "metadata": {},
   "outputs": [],
   "source": [
    "pt.create_filter_detailed_plot(fi_log_dict[\"Detailed_Log\"], organism = organism, \n",
    "                               reviewed = reviewed, decoy = rev_con, out_dir = out_dir)"
   ]
  },
  {
   "cell_type": "markdown",
   "metadata": {},
   "source": [
    "## 3. Remap Gene Names\n",
    "\n",
    "Besides protein IDs, gene names are also taken out of the respective Fasta files and mapped. These are needed for easier naming in plots and in analytical procedures such as enrichment analysis. Unfortunately, Fasta files are not always complete in terms of gene names.\n",
    "\n",
    "This method makes it possible to retrieve the assigned gene names based on the protein IDs with direct access to the Uniprot database and to fill the empty entries in the user file or even replace existing entries. There are multiple possible modes for which names should be taken.\n",
    "\n",
    "\n",
    "Again, you need to import the mqhandler's function and specify some preferences before running the method. The selected gene name column is remapped based on the protein ids column that has been specified. A dataframe including the remapped gene name column and all other columns of the original data is returned.\n",
    "\n",
    "Here, too, it is possible to subsequently obtain information on how many gene names were found for how many rows. This can also be displayed as a plot with a simple call.\n",
    "\n",
    "In this tutorial, we will call the remap gene names function on the data that has already been processed using the filter IDs method. "
   ]
  },
  {
   "cell_type": "markdown",
   "metadata": {},
   "source": [
    "#### 3.1 Imports"
   ]
  },
  {
   "cell_type": "code",
   "execution_count": null,
   "metadata": {},
   "outputs": [],
   "source": [
    "from proharmed import remap_genenames as rmg"
   ]
  },
  {
   "cell_type": "markdown",
   "metadata": {},
   "source": [
    "#### 3.2 Set Preferences"
   ]
  },
  {
   "cell_type": "code",
   "execution_count": null,
   "metadata": {},
   "outputs": [],
   "source": [
    "# mandatory\n",
    "mode = \"uniprot_primary\" # Mode of refilling. See below for more infos.\n",
    "protein_column = \"Protein IDs\" # Name of column with protein IDs\n",
    "\n",
    "# optional\n",
    "gene_column = \"Gene names\" # Name of column with gene names\n",
    "skip_filled = False # Bool to indicate if already filled gene names should be skipped\n",
    "organism = \"rat\" # Specify organism the IDs should match to\n",
    "fasta = None # Path of Fasta file when mode all or fasta\n",
    "keep_empty = False # Bool to indicate if empty gene names cells should be kept or deleted\n",
    "res_column = None # Name of column for remap gene names results. If None, the gene_column will be overridden"
   ]
  },
  {
   "cell_type": "markdown",
   "metadata": {},
   "source": [
    "**Modes of refilling:**\n",
    "- all : Use primarly fasta infos and additionally uniprot infos.\n",
    "- fasta: Use information extracted from fasta headers.\n",
    "- uniprot: Use mapping information from uniprot and use all gene names.\n",
    "- uniprot_primary: Use mapping information from uniprot and only all primary gene names.\n",
    "- uniprot_one: Use mapping information from uniprot and only use most frequent single gene name."
   ]
  },
  {
   "cell_type": "markdown",
   "metadata": {},
   "source": [
    "#### 3.3 Run remap_genenames"
   ]
  },
  {
   "cell_type": "code",
   "execution_count": null,
   "metadata": {},
   "outputs": [],
   "source": [
    "rmg_data, rmg_log_dict = rmg.remap_genenames(data = fi_data, mode=mode, protein_column = protein_column,\n",
    "                                            gene_column = gene_column, skip_filled = skip_filled, organism = organism, \n",
    "                                             fasta = fasta, keep_empty = keep_empty, res_column = res_column)\n",
    "rmg_data.head(5)"
   ]
  },
  {
   "cell_type": "markdown",
   "metadata": {},
   "source": [
    "## 4. Reduce Gene Names\n",
    "\n",
    "A well-known problem with gene symbols is that they are not unique and slight changes in spelling can lead to problems. Often there are different gene symbols for the same gene in UniProt. Depending on which protein IDs you used to get the gene symbol, you can get multiple gene symbols for the same gene by using the previous remap function.\n",
    "\n",
    "This method makes it possible to reduce the gene symbols to a common gene symbol using different features and databases, thus preventing redundancy. There are multiple possible modes for which names should be taken. \n",
    "\n",
    "Again, you need to import the mqhandler's function and specify some preferences before running the method. A dataframe including the reduced gene name column and all other columns of the original data is returned.\n",
    "\n",
    "Here, too, it is possible to subsequently obtain information on how many gene names were reduced for how many rows. This can also be displayed as a plot with a simple call.\n",
    "\n",
    "In this tutorial, we will call the reduce gene names function on the data that has already been processed using the filter IDs and remap gene names method. "
   ]
  },
  {
   "cell_type": "markdown",
   "metadata": {},
   "source": [
    "#### 4.1 Imports"
   ]
  },
  {
   "cell_type": "code",
   "execution_count": 8,
   "metadata": {},
   "outputs": [],
   "source": [
    "from proharmed import reduce_genenames as rdg"
   ]
  },
  {
   "cell_type": "markdown",
   "metadata": {},
   "source": [
    "#### 4.2 Set Preferences"
   ]
  },
  {
   "cell_type": "code",
   "execution_count": null,
   "metadata": {},
   "outputs": [],
   "source": [
    "# mandatory\n",
    "mode = \"ensembl\" # Mode of reduction. See below for more infos-\n",
    "gene_column = \"Remapped Gene Names\" # Name of column with gene names\n",
    "organism = \"human\" # Specify organism the IDs should match to\n",
    "\n",
    "# optional\n",
    "res_column = False # Name of column of reduced gene names results. If None, the gene_column will be overridden\n",
    "keep_empty = False # Bool to indicate if empty reduced gene names cells should be kept or deleted\n",
    "HGNC_mode = None # Mode on how to reduce the gene names using HGNC (mostfrequent, all)"
   ]
  },
  {
   "cell_type": "markdown",
   "metadata": {},
   "source": [
    "**Modes of reduction:**\n",
    "- ensembl : Use gProfiler to reduce gene names to those having a Ensembl ID\n",
    "- HGNC: Use HGNC database to reduce gene names to those having an entry in HGNC (only for human)\n",
    "- mygeneinfo: Use mygeneinfo database to reduce gene names to those having an entry in mygeneinfo\n",
    "- enrichment: Use gProfiler to reduce gene names to those having a functional annotation"
   ]
  },
  {
   "cell_type": "markdown",
   "metadata": {},
   "source": [
    "#### 4.3 Run reduce_genenames"
   ]
  },
  {
   "cell_type": "code",
   "execution_count": null,
   "metadata": {},
   "outputs": [],
   "source": [
    "rdg_data, rdg_log_dict = rdg.reduce_genenames(data = rmg_data, mode = mode, gene_column = gene_column, \n",
    "                                              organism = organism, res_column = res_column, keep_empty = keep_empty,\n",
    "                                             HGNC_mode = HGNC_mode)\n",
    "rdg_data.head(5)"
   ]
  },
  {
   "cell_type": "markdown",
   "metadata": {},
   "source": [
    "#### 4.4 Inspect Logging"
   ]
  },
  {
   "cell_type": "code",
   "execution_count": null,
   "metadata": {},
   "outputs": [],
   "source": [
    "pt.create_overview_plot(rdg_log_dict[\"Overview_Log\"], out_dir = out_dir)"
   ]
  },
  {
   "cell_type": "code",
   "execution_count": null,
   "metadata": {},
   "outputs": [],
   "source": [
    "pt.create_reduced_detailed_plot(rdg_log_dict[\"Detailed_Log\"], out_dir = out_dir)"
   ]
  },
  {
   "cell_type": "markdown",
   "metadata": {},
   "source": [
    "## 5. Map Orthologs\n",
    "\n",
    "Suppose you want to compare data between organisms, for example if you want to do a review across several species, you come across a known problem. Gene names differ between species, making it necessary to map all IDs to a selected organism through an ortholog mapping.\n",
    "\n",
    "Using the commonly used gProfiler, this method simply maps the gene names from the current organism to the target organism.\n",
    "\n",
    "Again, you need to import the mqhandler's function and specify some preferences before running the method. The selected gene name column is mapped to its orthologs based on target organism that has been specified. A dataframe including the mapped ortholog gene names and all other columns of the original data is returned.\n",
    "\n",
    "Unfortunately, depending on the original and target organism, there are more or less cases where no orthologous gene could be found. For a simplified overview of how many cases this was the case, this method can be used to obtain this information.\n",
    "\n",
    "As with the previous tasks, the log information can be displayed in plots."
   ]
  },
  {
   "cell_type": "markdown",
   "metadata": {},
   "source": [
    "#### 5.1 Imports"
   ]
  },
  {
   "cell_type": "code",
   "execution_count": null,
   "metadata": {},
   "outputs": [],
   "source": [
    "from proharmed import map_orthologs as mo"
   ]
  },
  {
   "cell_type": "markdown",
   "metadata": {},
   "source": [
    "#### 5.2 Set Preferences"
   ]
  },
  {
   "cell_type": "code",
   "execution_count": null,
   "metadata": {},
   "outputs": [],
   "source": [
    "# mandatory\n",
    "gene_column = \"Gene Names\" # Name of column with gene names\n",
    "source_organism = \"mouse\" # Specify organism the IDs match to\n",
    "tar_organism = \"human\" # Specify organism the IDs should me mapped to\n",
    "\n",
    "# optional\n",
    "keep_empty = False # Bool to indicate if empty ortholog gene names cells should be kept or deleted\n",
    "res_column = None # Name of column of orthologs gene names results. If None, the gene_column will be overridden"
   ]
  },
  {
   "cell_type": "markdown",
   "metadata": {},
   "source": [
    "#### 5.3 Run map_orthologs"
   ]
  },
  {
   "cell_type": "code",
   "execution_count": null,
   "metadata": {},
   "outputs": [],
   "source": [
    "mo_data, mo_log_dict = mo.map_orthologs(data = rdg_data, gene_column = gene_column, organism = source_organism,\n",
    "                                           tar_organism = tar_organism, keep_empty = keep_empty, \n",
    "                                            res_column = res_column)\n",
    "mo_log_dict"
   ]
  },
  {
   "cell_type": "code",
   "execution_count": null,
   "metadata": {},
   "outputs": [],
   "source": [
    "pt.create_overview_plot(rdg_log_dict[\"Overview_Log\"], out_dir = out_dir)"
   ]
  },
  {
   "cell_type": "code",
   "execution_count": null,
   "metadata": {},
   "outputs": [],
   "source": [
    "pt.create_ortholog_detailed_plot(rdg_log_dict[\"Detailed_Log\"], organism = organism out_dir = out_dir)"
   ]
  },
  {
   "cell_type": "markdown",
   "metadata": {},
   "source": [
    "#### 5.4 Inspect Logging"
   ]
  },
  {
   "cell_type": "code",
   "execution_count": null,
   "metadata": {},
   "outputs": [],
   "source": [
    "pt.create_overview_plot(mo_log_dict[\"Overview_Log\"], out_dir = out_dir)"
   ]
  },
  {
   "cell_type": "code",
   "execution_count": null,
   "metadata": {},
   "outputs": [],
   "source": [
    "pt.create_ortholog_detailed_plot(mo_log_dict[\"Detailed_Log\"], organism = source_organism, out_dir = out_dir)"
   ]
  },
  {
   "cell_type": "code",
   "execution_count": null,
   "metadata": {},
   "outputs": [],
   "source": []
  }
 ],
 "metadata": {
  "kernelspec": {
   "display_name": "Python 3",
   "language": "python",
   "name": "python3"
  },
  "language_info": {
   "codemirror_mode": {
    "name": "ipython",
    "version": 3
   },
   "file_extension": ".py",
   "mimetype": "text/x-python",
   "name": "python",
   "nbconvert_exporter": "python",
   "pygments_lexer": "ipython3",
   "version": "3.8.10"
  }
 },
 "nbformat": 4,
 "nbformat_minor": 1
}
