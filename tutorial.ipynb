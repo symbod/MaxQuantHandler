{
 "cells": [
  {
   "cell_type": "markdown",
   "metadata": {
    "collapsed": true
   },
   "source": [
    "# Tutorial on How To Use The *mqhandler* Package\n",
    "\n",
    "In this tutorial, we will show how to use the different functionalities of the mqhandler. The mqhandler package comprises 4 functionalities:\n",
    "- filter protein IDs\n",
    "- remap gene names\n",
    "- reduce gene names\n",
    "- map orthologs\n",
    "\n",
    "In this tutorial, we will first load the data into a pandas dataframe. Then, the protein ids will be filtered, the gene names remapped and reduced to gene names having an Ensembl ID. Finally, we will map the gene names to human orthologs."
   ]
  },
  {
   "cell_type": "markdown",
   "metadata": {},
   "source": [
    "## Installation"
   ]
  },
  {
   "cell_type": "code",
   "execution_count": null,
   "metadata": {},
   "outputs": [],
   "source": [
    "# Install mqhandler python package\n",
    "import sys\n",
    "!{sys.executable} -m pip install mqhandler==0.0.20"
   ]
  },
  {
   "cell_type": "code",
   "execution_count": null,
   "metadata": {},
   "outputs": [],
   "source": [
    "from importlib.metadata import version\n",
    "version('mqhandler')"
   ]
  },
  {
   "cell_type": "markdown",
   "metadata": {},
   "source": [
    "## 1. Load Data\n",
    "\n",
    "In order to use the mqhandler functionalities, you need to load your data into a pandas dataframe. This could be a MaxQuant proteinGroups.txt output, a single column with protein IDs or any other matrix with a column of ids/gene names.\n",
    "\n",
    "In this tutorial, we will use proteomics data processed with MaxQuant."
   ]
  },
  {
   "cell_type": "markdown",
   "metadata": {},
   "source": [
    "#### 1.1 Imports"
   ]
  },
  {
   "cell_type": "code",
   "execution_count": null,
   "metadata": {},
   "outputs": [],
   "source": [
    "import pandas as pd\n",
    "from mqhandler.mq_utils.runner_utils import find_delimiter"
   ]
  },
  {
   "cell_type": "markdown",
   "metadata": {},
   "source": [
    "#### 1.2 Specify File Path"
   ]
  },
  {
   "cell_type": "code",
   "execution_count": null,
   "metadata": {},
   "outputs": [],
   "source": [
    "file = \"<file_path>\""
   ]
  },
  {
   "cell_type": "markdown",
   "metadata": {},
   "source": [
    "#### 1.3 Load Your Data"
   ]
  },
  {
   "cell_type": "code",
   "execution_count": null,
   "metadata": {},
   "outputs": [],
   "source": [
    "data = pd.read_table(file, sep=find_delimiter(file)).fillna(\"\")\n",
    "data.head(5)"
   ]
  },
  {
   "cell_type": "markdown",
   "metadata": {},
   "source": [
    "## 2. Filter Protein IDs\n",
    "\n",
    "For a protein assignment using MaxQuant, Fasta files are required. Since MaxQuant can also be used to run several data collectively, it can also happen that results are provided with protein IDs of several organisms. This method makes it possible to check the protein IDs for their organism by directly accessing the Uniprot database, and to remove incorrectly assigned IDs. Additionally, decoy (REV_) and contaminants (CON_) IDs and/or unreviewed protein IDs can be removed.\n",
    "\n",
    "\n",
    "First you need to import the method from the mqhandler package. Following the specification of a few parameters, the method can be called. The selected protein column is filtered and a new dataframe is returned. \n",
    "\n",
    "One might be interested to know how many IDs were filtered out, in total and per row. Therefore, with this call, you can generate 2 data frames that display this information as a table.\n",
    "\n",
    "In addition to the information as a table, it can also be displayed directly as plots with a simple call."
   ]
  },
  {
   "cell_type": "markdown",
   "metadata": {},
   "source": [
    "#### 2.1 Imports"
   ]
  },
  {
   "cell_type": "code",
   "execution_count": null,
   "metadata": {},
   "outputs": [],
   "source": [
    "from mqhandler import filter_ids as fi"
   ]
  },
  {
   "cell_type": "markdown",
   "metadata": {},
   "source": [
    "#### 2.2 Set Preferences"
   ]
  },
  {
   "cell_type": "code",
   "execution_count": null,
   "metadata": {},
   "outputs": [],
   "source": [
    "# mandatory\n",
    "protein_column = \"Protein IDs\" # Name of column with protein IDs\n",
    "\n",
    "# optional\n",
    "organism = \"rat\" # Specify organism the IDs should match to\n",
    "rev_con = False # Bool to indicate if protein IDs from decoy (REV__) and contaminants (CON__) should be kept\n",
    "reviewed = False # Bool to indicate if newly retrieved protein IDS should be reduced to reviewed ones\n",
    "keep_empty = False # Bool to indicate if empty ID cells should be kept or deleted\n",
    "res_column = None # Name of column for filer protein IDs results. If None, the protein_column will be overridden"
   ]
  },
  {
   "cell_type": "markdown",
   "metadata": {},
   "source": [
    "#### 2.2 Run filter_protein_ids"
   ]
  },
  {
   "cell_type": "code",
   "execution_count": null,
   "metadata": {},
   "outputs": [],
   "source": [
    "fi_data, fi_log_dict = fi.filter_protein_ids(data = data, protein_column = protein_column, \n",
    "                                             organism = organism, rev_con = rev_con, keep_empty = keep_empty, \n",
    "                                             reviewed = reviewed, res_column = res_column)\n",
    "fi_data.head(5)"
   ]
  },
  {
   "cell_type": "markdown",
   "metadata": {},
   "source": [
    "#### 2.3 Inspect Logging"
   ]
  },
  {
   "cell_type": "code",
   "execution_count": null,
   "metadata": {},
   "outputs": [],
   "source": [
    "from mqhandler.mq_utils import plotting as pt\n",
    "out_dir = \"<out_dir>\"\n",
    "pt.create_overview_plot(fi_log_dict[\"Overview_Log\"], out_dir = out_dir)"
   ]
  },
  {
   "cell_type": "code",
   "execution_count": null,
   "metadata": {},
   "outputs": [],
   "source": [
    "pt.create_filter_detailed_plot(fi_log_dict[\"Detailed_Log\"], organism = organism, \n",
    "                               reviewed = reviewed, decoy = rev_con, out_dir = out_dir)"
   ]
  },
  {
   "cell_type": "markdown",
   "metadata": {},
   "source": [
    "## 3. Remap Gene Names\n",
    "\n",
    "Besides protein IDs, gene names are also taken out of the respective Fasta files and mapped. These are needed for easier naming in plots and in analytical procedures such as enrichment analysis. Unfortunately, Fasta files are not always complete in terms of gene names.\n",
    "\n",
    "This method makes it possible to retrieve the assigned gene names based on the protein IDs with direct access to the Uniprot database and to fill the empty entries in the user file or even replace existing entries. There are multiple possible modes for which names should be taken.\n",
    "\n",
    "\n",
    "Again, you need to import the mqhandler's function and specify some preferences before running the method. The selected gene name column is remapped based on the protein ids column that has been specified. A dataframe including the remapped gene name column and all other columns of the original data is returned.\n",
    "\n",
    "Here, too, it is possible to subsequently obtain information on how many gene names were found for how many rows. This can also be displayed as a plot with a simple call.\n",
    "\n",
    "In this tutorial, we will call the remap gene names function on the data that has already been processed using the filter IDs method. "
   ]
  },
  {
   "cell_type": "markdown",
   "metadata": {},
   "source": [
    "#### 3.1 Imports"
   ]
  },
  {
   "cell_type": "code",
   "execution_count": null,
   "metadata": {},
   "outputs": [],
   "source": [
    "from mqhandler import remap_genenames as rmg"
   ]
  },
  {
   "cell_type": "markdown",
   "metadata": {},
   "source": [
    "#### 3.2 Set Preferences"
   ]
  },
  {
   "cell_type": "code",
   "execution_count": null,
   "metadata": {},
   "outputs": [],
   "source": [
    "# mandatory\n",
    "mode = \"uniprot_primary\" # Mode of refilling. See below for more infos.\n",
    "protein_column = \"Protein IDs\" # Name of column with protein IDs\n",
    "\n",
    "# optional\n",
    "gene_column = \"Gene names\" # Name of column with gene names\n",
    "skip_filled = False # Bool to indicate if already filled gene names should be skipped\n",
    "organism = \"rat\" # Specify organism the IDs should match to\n",
    "fasta = None # Path of Fasta file when mode all or fasta\n",
    "keep_empty = False # Bool to indicate if empty gene names cells should be kept or deleted\n",
    "res_column = None # Name of column for remap gene names results. If None, the gene_column will be overridden"
   ]
  },
  {
   "cell_type": "markdown",
   "metadata": {},
   "source": [
    "**Modes of refilling:**\n",
    "- all : Use primarly fasta infos and additionally uniprot infos.\n",
    "- fasta: Use information extracted from fasta headers.\n",
    "- uniprot: Use mapping information from uniprot and use all gene names.\n",
    "- uniprot_primary: Use mapping information from uniprot and only all primary gene names.\n",
    "- uniprot_one: Use mapping information from uniprot and only use most frequent single gene name."
   ]
  },
  {
   "cell_type": "markdown",
   "metadata": {},
   "source": [
    "#### 3.3 Run remap_genenames"
   ]
  },
  {
   "cell_type": "code",
   "execution_count": null,
   "metadata": {},
   "outputs": [],
   "source": [
    "rmg_data, rmg_log_dict = rmg.remap_genenames(data = fi_data, mode=mode, protein_column = protein_column,\n",
    "                                            gene_column = gene_column, skip_filled = skip_filled, organism = organism, \n",
    "                                             fasta = fasta, keep_empty = keep_empty, res_column = res_column)\n",
    "rmg_data.head(5)"
   ]
  },
  {
   "cell_type": "markdown",
   "metadata": {},
   "source": [
    "## 4. Reduce Gene Names\n",
    "\n",
    "A well-known problem with gene symbols is that they are not unique and slight changes in spelling can lead to problems. Often there are different gene symbols for the same gene in UniProt. Depending on which protein IDs you used to get the gene symbol, you can get multiple gene symbols for the same gene by using the previous remap function.\n",
    "\n",
    "This method makes it possible to reduce the gene symbols to a common gene symbol using different features and databases, thus preventing redundancy. There are multiple possible modes for which names should be taken. \n",
    "\n",
    "Again, you need to import the mqhandler's function and specify some preferences before running the method. A dataframe including the reduced gene name column and all other columns of the original data is returned.\n",
    "\n",
    "Here, too, it is possible to subsequently obtain information on how many gene names were reduced for how many rows. This can also be displayed as a plot with a simple call.\n",
    "\n",
    "In this tutorial, we will call the reduce gene names function on the data that has already been processed using the filter IDs and remap gene names method. "
   ]
  },
  {
   "cell_type": "markdown",
   "metadata": {},
   "source": [
    "#### 4.1 Imports"
   ]
  },
  {
   "cell_type": "code",
   "execution_count": 1,
   "metadata": {},
   "outputs": [],
   "source": [
    "import sys\n",
    "import pandas as pd\n",
    "from pathlib import Path\n",
    "sys.path.append(str(Path.cwd().parent))\n",
    "import reduce_genenames as rdg"
   ]
  },
  {
   "cell_type": "markdown",
   "metadata": {},
   "source": [
    "#### 4.2 Set Preferences"
   ]
  },
  {
   "cell_type": "code",
   "execution_count": 2,
   "metadata": {},
   "outputs": [],
   "source": [
    "rmg_data = pd.read_csv(\"../MaxQuantHandler-R/test.csv\")"
   ]
  },
  {
   "cell_type": "code",
   "execution_count": null,
   "metadata": {},
   "outputs": [],
   "source": []
  },
  {
   "cell_type": "code",
   "execution_count": 3,
   "metadata": {},
   "outputs": [],
   "source": [
    "# mandatory\n",
    "mode = \"ensembl\" # Mode of reduction. See below for more infos-\n",
    "gene_column = \"Remapped Gene Names\" # Name of column with gene names\n",
    "organism = \"human\" # Specify organism the IDs should match to\n",
    "\n",
    "# optional\n",
    "res_column = False # Name of column of reduced gene names results. If None, the gene_column will be overridden\n",
    "keep_empty = False # Bool to indicate if empty reduced gene names cells should be kept or deleted\n",
    "HGNC_mode = None # Mode on how to reduce the gene names using HGNC (mostfrequent, all)"
   ]
  },
  {
   "cell_type": "markdown",
   "metadata": {},
   "source": [
    "**Modes of reduction:**\n",
    "- ensembl : Use gProfiler to reduce gene names to those having a Ensembl ID\n",
    "- HGNC: Use HGNC database to reduce gene names to those having an entry in HGNC (only for human)\n",
    "- mygeneinfo: Use mygeneinfo database to reduce gene names to those having an entry in mygeneinfo\n",
    "- enrichment: Use gProfiler to reduce gene names to those having a functional annotation"
   ]
  },
  {
   "cell_type": "markdown",
   "metadata": {},
   "source": [
    "#### 4.3 Run reduce_genenames"
   ]
  },
  {
   "cell_type": "code",
   "execution_count": 4,
   "metadata": {},
   "outputs": [
    {
     "name": "stderr",
     "output_type": "stream",
     "text": [
      "/home/kikky/Projects/symbod/handler/MaxQuantHandler/mq_utils/mapping_handler.py:167: SettingWithCopyWarning: \n",
      "A value is trying to be set on a copy of a slice from a DataFrame.\n",
      "Try using .loc[row_indexer,col_indexer] = value instead\n",
      "\n",
      "See the caveats in the documentation: https://pandas.pydata.org/pandas-docs/stable/user_guide/indexing.html#returning-a-view-versus-a-copy\n",
      "  mapping.loc[:, \"Organism\"] = organism\n"
     ]
    },
    {
     "data": {
      "text/html": [
       "<div>\n",
       "<style scoped>\n",
       "    .dataframe tbody tr th:only-of-type {\n",
       "        vertical-align: middle;\n",
       "    }\n",
       "\n",
       "    .dataframe tbody tr th {\n",
       "        vertical-align: top;\n",
       "    }\n",
       "\n",
       "    .dataframe thead th {\n",
       "        text-align: right;\n",
       "    }\n",
       "</style>\n",
       "<table border=\"1\" class=\"dataframe\">\n",
       "  <thead>\n",
       "    <tr style=\"text-align: right;\">\n",
       "      <th></th>\n",
       "      <th>Unnamed: 0</th>\n",
       "      <th>Protein IDs</th>\n",
       "      <th>Filtered Protein IDs</th>\n",
       "      <th>Remapped Gene Names</th>\n",
       "      <th>False</th>\n",
       "    </tr>\n",
       "  </thead>\n",
       "  <tbody>\n",
       "    <tr>\n",
       "      <th>0</th>\n",
       "      <td>1</td>\n",
       "      <td>P08123</td>\n",
       "      <td>P08123</td>\n",
       "      <td>COL1A2</td>\n",
       "      <td>COL1A2</td>\n",
       "    </tr>\n",
       "    <tr>\n",
       "      <th>1</th>\n",
       "      <td>2</td>\n",
       "      <td>A0A0G2JIW1;V9GZ37;P0DMV9;P0DMV8</td>\n",
       "      <td>P0DMV8;V9GZ37;A0A0G2JIW1;P0DMV9</td>\n",
       "      <td>HSPA1A;HSPA1B</td>\n",
       "      <td>HSPA1B;HSPA1A</td>\n",
       "    </tr>\n",
       "    <tr>\n",
       "      <th>2</th>\n",
       "      <td>3</td>\n",
       "      <td>F8WCH0;P63267;F8WB63;F6UVQ4;C9JFL5;F6QUT6;P627...</td>\n",
       "      <td>F6QUT6;F8WB63;B8ZZJ2;P63267;F8WCH0;P62736;C9JF...</td>\n",
       "      <td>ACTA2;ACTG2</td>\n",
       "      <td>ACTA2;ACTG2</td>\n",
       "    </tr>\n",
       "    <tr>\n",
       "      <th>3</th>\n",
       "      <td>4</td>\n",
       "      <td>A0A3B3ITK0;Q5RI53;P35442</td>\n",
       "      <td>A0A3B3ITK0;P35442;Q5RI53</td>\n",
       "      <td>THBS2</td>\n",
       "      <td>THBS2</td>\n",
       "    </tr>\n",
       "    <tr>\n",
       "      <th>4</th>\n",
       "      <td>5</td>\n",
       "      <td>B1ALD9</td>\n",
       "      <td>B1ALD9</td>\n",
       "      <td>POSTN</td>\n",
       "      <td>POSTN</td>\n",
       "    </tr>\n",
       "  </tbody>\n",
       "</table>\n",
       "</div>"
      ],
      "text/plain": [
       "   Unnamed: 0                                        Protein IDs  \\\n",
       "0           1                                             P08123   \n",
       "1           2                    A0A0G2JIW1;V9GZ37;P0DMV9;P0DMV8   \n",
       "2           3  F8WCH0;P63267;F8WB63;F6UVQ4;C9JFL5;F6QUT6;P627...   \n",
       "3           4                           A0A3B3ITK0;Q5RI53;P35442   \n",
       "4           5                                             B1ALD9   \n",
       "\n",
       "                                Filtered Protein IDs Remapped Gene Names  \\\n",
       "0                                             P08123              COL1A2   \n",
       "1                    P0DMV8;V9GZ37;A0A0G2JIW1;P0DMV9       HSPA1A;HSPA1B   \n",
       "2  F6QUT6;F8WB63;B8ZZJ2;P63267;F8WCH0;P62736;C9JF...         ACTA2;ACTG2   \n",
       "3                           A0A3B3ITK0;P35442;Q5RI53               THBS2   \n",
       "4                                             B1ALD9               POSTN   \n",
       "\n",
       "           False  \n",
       "0         COL1A2  \n",
       "1  HSPA1B;HSPA1A  \n",
       "2    ACTA2;ACTG2  \n",
       "3          THBS2  \n",
       "4          POSTN  "
      ]
     },
     "execution_count": 4,
     "metadata": {},
     "output_type": "execute_result"
    }
   ],
   "source": [
    "rdg_data, rdg_log_dict = rdg.reduce_genenames(data = rmg_data, mode = mode, gene_column = gene_column, \n",
    "                                              organism = organism, res_column = res_column, keep_empty = keep_empty,\n",
    "                                             HGNC_mode = HGNC_mode)\n",
    "rdg_data.head(5)"
   ]
  },
  {
   "cell_type": "markdown",
   "metadata": {},
   "source": [
    "#### 4.4 Inspect Logging"
   ]
  },
  {
   "cell_type": "code",
   "execution_count": null,
   "metadata": {},
   "outputs": [],
   "source": [
    "pt.create_overview_plot(rdg_log_dict[\"Overview_Log\"], out_dir = out_dir)"
   ]
  },
  {
   "cell_type": "code",
   "execution_count": null,
   "metadata": {},
   "outputs": [],
   "source": [
    "pt.create_reduced_detailed_plot(rdg_log_dict[\"Detailed_Log\"], out_dir = out_dir)"
   ]
  },
  {
   "cell_type": "markdown",
   "metadata": {},
   "source": [
    "## 5. Map Orthologs\n",
    "\n",
    "Suppose you want to compare data between organisms, for example if you want to do a review across several species, you come across a known problem. Gene names differ between species, making it necessary to map all IDs to a selected organism through an ortholog mapping.\n",
    "\n",
    "Using the commonly used gProfiler, this method simply maps the gene names from the current organism to the target organism.\n",
    "\n",
    "Again, you need to import the mqhandler's function and specify some preferences before running the method. The selected gene name column is mapped to its orthologs based on target organism that has been specified. A dataframe including the mapped ortholog gene names and all other columns of the original data is returned.\n",
    "\n",
    "Unfortunately, depending on the original and target organism, there are more or less cases where no orthologous gene could be found. For a simplified overview of how many cases this was the case, this method can be used to obtain this information.\n",
    "\n",
    "As with the previous tasks, the log information can be displayed in plots."
   ]
  },
  {
   "cell_type": "markdown",
   "metadata": {},
   "source": [
    "#### 5.1 Imports"
   ]
  },
  {
   "cell_type": "code",
   "execution_count": 1,
   "metadata": {},
   "outputs": [],
   "source": [
    "import sys\n",
    "import pandas as pd\n",
    "from pathlib import Path\n",
    "sys.path.append(str(Path.cwd().parent))\n",
    "import map_orthologs as mo"
   ]
  },
  {
   "cell_type": "code",
   "execution_count": 2,
   "metadata": {},
   "outputs": [
    {
     "data": {
      "text/html": [
       "<div>\n",
       "<style scoped>\n",
       "    .dataframe tbody tr th:only-of-type {\n",
       "        vertical-align: middle;\n",
       "    }\n",
       "\n",
       "    .dataframe tbody tr th {\n",
       "        vertical-align: top;\n",
       "    }\n",
       "\n",
       "    .dataframe thead th {\n",
       "        text-align: right;\n",
       "    }\n",
       "</style>\n",
       "<table border=\"1\" class=\"dataframe\">\n",
       "  <thead>\n",
       "    <tr style=\"text-align: right;\">\n",
       "      <th></th>\n",
       "      <th>Unnamed: 0</th>\n",
       "      <th>Gene Names</th>\n",
       "    </tr>\n",
       "  </thead>\n",
       "  <tbody>\n",
       "    <tr>\n",
       "      <th>0</th>\n",
       "      <td>1</td>\n",
       "      <td>Ptbp1</td>\n",
       "    </tr>\n",
       "    <tr>\n",
       "      <th>1</th>\n",
       "      <td>2</td>\n",
       "      <td>Col24a1</td>\n",
       "    </tr>\n",
       "    <tr>\n",
       "      <th>2</th>\n",
       "      <td>3</td>\n",
       "      <td>Kidins220</td>\n",
       "    </tr>\n",
       "    <tr>\n",
       "      <th>3</th>\n",
       "      <td>4</td>\n",
       "      <td>Ccl8</td>\n",
       "    </tr>\n",
       "    <tr>\n",
       "      <th>4</th>\n",
       "      <td>5</td>\n",
       "      <td>Cox8a</td>\n",
       "    </tr>\n",
       "    <tr>\n",
       "      <th>...</th>\n",
       "      <td>...</td>\n",
       "      <td>...</td>\n",
       "    </tr>\n",
       "    <tr>\n",
       "      <th>603</th>\n",
       "      <td>604</td>\n",
       "      <td>Ints10</td>\n",
       "    </tr>\n",
       "    <tr>\n",
       "      <th>604</th>\n",
       "      <td>605</td>\n",
       "      <td>Maea</td>\n",
       "    </tr>\n",
       "    <tr>\n",
       "      <th>605</th>\n",
       "      <td>606</td>\n",
       "      <td>Alcam</td>\n",
       "    </tr>\n",
       "    <tr>\n",
       "      <th>606</th>\n",
       "      <td>607</td>\n",
       "      <td>Eif2d</td>\n",
       "    </tr>\n",
       "    <tr>\n",
       "      <th>607</th>\n",
       "      <td>608</td>\n",
       "      <td>Itga11</td>\n",
       "    </tr>\n",
       "  </tbody>\n",
       "</table>\n",
       "<p>608 rows × 2 columns</p>\n",
       "</div>"
      ],
      "text/plain": [
       "     Unnamed: 0 Gene Names\n",
       "0             1      Ptbp1\n",
       "1             2    Col24a1\n",
       "2             3  Kidins220\n",
       "3             4       Ccl8\n",
       "4             5      Cox8a\n",
       "..          ...        ...\n",
       "603         604     Ints10\n",
       "604         605       Maea\n",
       "605         606      Alcam\n",
       "606         607      Eif2d\n",
       "607         608     Itga11\n",
       "\n",
       "[608 rows x 2 columns]"
      ]
     },
     "execution_count": 2,
     "metadata": {},
     "output_type": "execute_result"
    }
   ],
   "source": [
    "rdg_data = pd.read_csv(\"../MaxQuantHandler-R/test.csv\")\n",
    "rdg_data"
   ]
  },
  {
   "cell_type": "markdown",
   "metadata": {},
   "source": [
    "#### 5.2 Set Preferences"
   ]
  },
  {
   "cell_type": "code",
   "execution_count": 3,
   "metadata": {},
   "outputs": [],
   "source": [
    "# mandatory\n",
    "gene_column = \"Gene Names\" # Name of column with gene names\n",
    "source_organism = \"mouse\" # Specify organism the IDs match to\n",
    "tar_organism = \"human\" # Specify organism the IDs should me mapped to\n",
    "\n",
    "# optional\n",
    "keep_empty = False # Bool to indicate if empty ortholog gene names cells should be kept or deleted\n",
    "res_column = None # Name of column of orthologs gene names results. If None, the gene_column will be overridden"
   ]
  },
  {
   "cell_type": "markdown",
   "metadata": {},
   "source": [
    "#### 5.3 Run map_orthologs"
   ]
  },
  {
   "cell_type": "code",
   "execution_count": 4,
   "metadata": {},
   "outputs": [
    {
     "name": "stdout",
     "output_type": "stream",
     "text": [
      "    source_symbol source_organism                ensg    ortholog_ensg  \\\n",
      "0            Arf3           mouse  ENSMUSG00000051853  ENSG00000134287   \n",
      "1             Hal           mouse  ENSMUSG00000020017  ENSG00000084110   \n",
      "2            Spp2           mouse  ENSMUSG00000026295  ENSG00000072080   \n",
      "3            Cbr2           mouse  ENSMUSG00000025150              N/A   \n",
      "4           Sf3b6           mouse  ENSMUSG00000037361  ENSG00000115128   \n",
      "..            ...             ...                 ...              ...   \n",
      "624          Ppat           mouse  ENSMUSG00000029246  ENSG00000128059   \n",
      "625         Dpy30           mouse  ENSMUSG00000024067  ENSG00000162961   \n",
      "626        Wfdc17           mouse  ENSMUSG00000069792              N/A   \n",
      "627          Nfs1           mouse  ENSMUSG00000027618  ENSG00000244005   \n",
      "628        Hsd3b7           mouse  ENSMUSG00000042289  ENSG00000099377   \n",
      "\n",
      "    target_symbol target_organism  \\\n",
      "0            ARF3           human   \n",
      "1             HAL           human   \n",
      "2            SPP2           human   \n",
      "3             N/A           human   \n",
      "4           SF3B6           human   \n",
      "..            ...             ...   \n",
      "624          PPAT           human   \n",
      "625         DPY30           human   \n",
      "626           N/A           human   \n",
      "627          NFS1           human   \n",
      "628        HSD3B7           human   \n",
      "\n",
      "                                           description  \n",
      "0    ADP ribosylation factor 3 [Source:HGNC Symbol;...  \n",
      "1    histidine ammonia-lyase [Source:HGNC Symbol;Ac...  \n",
      "2    secreted phosphoprotein 2 [Source:HGNC Symbol;...  \n",
      "3                                                  N/A  \n",
      "4    splicing factor 3b subunit 6 [Source:HGNC Symb...  \n",
      "..                                                 ...  \n",
      "624  phosphoribosyl pyrophosphate amidotransferase ...  \n",
      "625  dpy-30 histone methyltransferase complex regul...  \n",
      "626                                                N/A  \n",
      "627  NFS1 cysteine desulfurase [Source:HGNC Symbol;...  \n",
      "628  hydroxy-delta-5-steroid dehydrogenase, 3 beta-...  \n",
      "\n",
      "[629 rows x 7 columns]\n",
      "    source_symbol source_organism                ensg ortholog_ensg  \\\n",
      "3            Cbr2           mouse  ENSMUSG00000025150           N/A   \n",
      "7          Ifi202           mouse  ENSMUSG00000026535           N/A   \n",
      "18         Kdelc2           mouse                 N/A           N/A   \n",
      "19           Iscu           mouse  ENSMUSG00000025825           N/A   \n",
      "21       Hist1h4m           mouse                 N/A           N/A   \n",
      "26        Ifi205a           mouse  ENSMUSG00000054203           N/A   \n",
      "27           Cd68           mouse  ENSMUSG00000018774           N/A   \n",
      "46         Afg3l1           mouse  ENSMUSG00000031967           N/A   \n",
      "52           Ctgf           mouse                 N/A           N/A   \n",
      "56          Asna1           mouse                 N/A           N/A   \n",
      "63           H2-L           mouse                 N/A           N/A   \n",
      "80          Wdr92           mouse                 N/A           N/A   \n",
      "88          Wbp11           mouse  ENSMUSG00000030216           N/A   \n",
      "89        Gm16286           mouse  ENSMUSG00000024571           N/A   \n",
      "92       Hist1h3i           mouse                 N/A           N/A   \n",
      "108         Rpl10           mouse  ENSMUSG00000058443           N/A   \n",
      "156         Wisp2           mouse                 N/A           N/A   \n",
      "204          Mdp1           mouse  ENSMUSG00000002329           N/A   \n",
      "206       Clca3a1           mouse  ENSMUSG00000056025           N/A   \n",
      "229        Arpp19           mouse  ENSMUSG00000007656           N/A   \n",
      "258      Hist1h1c           mouse                 N/A           N/A   \n",
      "294       Adprhl2           mouse                 N/A           N/A   \n",
      "299          Fhl1           mouse  ENSMUSG00000023092           N/A   \n",
      "339         H2afy           mouse                 N/A           N/A   \n",
      "375        Sec61b           mouse  ENSMUSG00000053317           N/A   \n",
      "395      Rnaset2a           mouse  ENSMUSG00000116876           N/A   \n",
      "396      Rnaset2a           mouse  ENSMUSG00000116988           N/A   \n",
      "405      Hist1h1e           mouse                 N/A           N/A   \n",
      "406       Gm44084           mouse  ENSMUSG00000108233           N/A   \n",
      "453           Mut           mouse                 N/A           N/A   \n",
      "464            Pc           mouse                 N/A           N/A   \n",
      "465         Hmgn2           mouse  ENSMUSG00000003038           N/A   \n",
      "468         H2afx           mouse                 N/A           N/A   \n",
      "487         Gsta4           mouse  ENSMUSG00000032348           N/A   \n",
      "493        Myl12a           mouse  ENSMUSG00000117098           N/A   \n",
      "519       Col24a1           mouse  ENSMUSG00000028197           N/A   \n",
      "525          Gja1           mouse  ENSMUSG00000050953           N/A   \n",
      "533        Lrrc8a           mouse  ENSMUSG00000099041           N/A   \n",
      "548        Sssca1           mouse                 N/A           N/A   \n",
      "565         Lrch4           mouse  ENSMUSG00000029720           N/A   \n",
      "588       Gm49368           mouse  ENSMUSG00000108596           N/A   \n",
      "592           Pzp           mouse  ENSMUSG00000030359           N/A   \n",
      "594         Gnao1           mouse  ENSMUSG00000031748           N/A   \n",
      "619          Gnaq           mouse  ENSMUSG00000024639           N/A   \n",
      "626        Wfdc17           mouse  ENSMUSG00000069792           N/A   \n",
      "\n",
      "    target_symbol target_organism description  \n",
      "3             N/A           human         N/A  \n",
      "7             N/A           human         N/A  \n",
      "18            N/A           human         N/A  \n",
      "19            N/A           human         N/A  \n",
      "21            N/A           human         N/A  \n",
      "26            N/A           human         N/A  \n",
      "27            N/A           human         N/A  \n",
      "46            N/A           human         N/A  \n",
      "52            N/A           human         N/A  \n",
      "56            N/A           human         N/A  \n",
      "63            N/A           human         N/A  \n",
      "80            N/A           human         N/A  \n",
      "88            N/A           human         N/A  \n",
      "89            N/A           human         N/A  \n",
      "92            N/A           human         N/A  \n",
      "108           N/A           human         N/A  \n",
      "156           N/A           human         N/A  \n",
      "204           N/A           human         N/A  \n",
      "206           N/A           human         N/A  \n",
      "229           N/A           human         N/A  \n",
      "258           N/A           human         N/A  \n",
      "294           N/A           human         N/A  \n",
      "299           N/A           human         N/A  \n",
      "339           N/A           human         N/A  \n",
      "375           N/A           human         N/A  \n",
      "395           N/A           human         N/A  \n",
      "396           N/A           human         N/A  \n",
      "405           N/A           human         N/A  \n",
      "406           N/A           human         N/A  \n",
      "453           N/A           human         N/A  \n",
      "464           N/A           human         N/A  \n",
      "465           N/A           human         N/A  \n",
      "468           N/A           human         N/A  \n",
      "487           N/A           human         N/A  \n",
      "493           N/A           human         N/A  \n",
      "519           N/A           human         N/A  \n",
      "525           N/A           human         N/A  \n",
      "533           N/A           human         N/A  \n",
      "548           N/A           human         N/A  \n",
      "565           N/A           human         N/A  \n",
      "588           N/A           human         N/A  \n",
      "592           N/A           human         N/A  \n",
      "594           N/A           human         N/A  \n",
      "619           N/A           human         N/A  \n",
      "626           N/A           human         N/A  \n"
     ]
    },
    {
     "data": {
      "text/plain": [
       "{'Overview_Log':       Gene Names Ortholog Gene Names Removed Gene Names  Nr Gene Names  \\\n",
       " 0        [Ptbp1]             [PTBP1]                 []              1   \n",
       " 1      [Col24a1]                  []          [Col24a1]              1   \n",
       " 2    [Kidins220]         [KIDINS220]                 []              1   \n",
       " 3         [Ccl8]              [CCL8]                 []              1   \n",
       " 4        [Cox8a]             [COX8A]                 []              1   \n",
       " ..           ...                 ...                ...            ...   \n",
       " 603     [Ints10]            [INTS10]                 []              1   \n",
       " 604       [Maea]              [MAEA]                 []              1   \n",
       " 605      [Alcam]             [ALCAM]                 []              1   \n",
       " 606      [Eif2d]             [EIF2D]                 []              1   \n",
       " 607     [Itga11]            [ITGA11]                 []              1   \n",
       " \n",
       "      Nr Ortholog Gene Names  Nr Removed Gene Names  \n",
       " 0                         1                      0  \n",
       " 1                         0                      1  \n",
       " 2                         1                      0  \n",
       " 3                         1                      0  \n",
       " 4                         1                      0  \n",
       " ..                      ...                    ...  \n",
       " 603                       1                      0  \n",
       " 604                       1                      0  \n",
       " 605                       1                      0  \n",
       " 606                       1                      0  \n",
       " 607                       1                      0  \n",
       " \n",
       " [608 rows x 6 columns],\n",
       " 'Detailed_Log':    source_symbol source_organism                ensg ortholog_ensg  \\\n",
       " 0           Cbr2           mouse  ENSMUSG00000025150           N/A   \n",
       " 1         Ifi202           mouse  ENSMUSG00000026535           N/A   \n",
       " 2         Kdelc2           mouse                 N/A           N/A   \n",
       " 3           Iscu           mouse  ENSMUSG00000025825           N/A   \n",
       " 4       Hist1h4m           mouse                 N/A           N/A   \n",
       " 5        Ifi205a           mouse  ENSMUSG00000054203           N/A   \n",
       " 6           Cd68           mouse  ENSMUSG00000018774           N/A   \n",
       " 7         Afg3l1           mouse  ENSMUSG00000031967           N/A   \n",
       " 8           Ctgf           mouse                 N/A           N/A   \n",
       " 9          Asna1           mouse                 N/A           N/A   \n",
       " 10          H2-L           mouse                 N/A           N/A   \n",
       " 11         Wdr92           mouse                 N/A           N/A   \n",
       " 12         Wbp11           mouse  ENSMUSG00000030216           N/A   \n",
       " 13       Gm16286           mouse  ENSMUSG00000024571           N/A   \n",
       " 14      Hist1h3i           mouse                 N/A           N/A   \n",
       " 15         Rpl10           mouse  ENSMUSG00000058443           N/A   \n",
       " 16         Wisp2           mouse                 N/A           N/A   \n",
       " 17          Mdp1           mouse  ENSMUSG00000002329           N/A   \n",
       " 18       Clca3a1           mouse  ENSMUSG00000056025           N/A   \n",
       " 19        Arpp19           mouse  ENSMUSG00000007656           N/A   \n",
       " 20      Hist1h1c           mouse                 N/A           N/A   \n",
       " 21       Adprhl2           mouse                 N/A           N/A   \n",
       " 22          Fhl1           mouse  ENSMUSG00000023092           N/A   \n",
       " 23         H2afy           mouse                 N/A           N/A   \n",
       " 24        Sec61b           mouse  ENSMUSG00000053317           N/A   \n",
       " 25      Rnaset2a           mouse  ENSMUSG00000116876           N/A   \n",
       " 26      Rnaset2a           mouse  ENSMUSG00000116988           N/A   \n",
       " 27      Hist1h1e           mouse                 N/A           N/A   \n",
       " 28       Gm44084           mouse  ENSMUSG00000108233           N/A   \n",
       " 29           Mut           mouse                 N/A           N/A   \n",
       " 30            Pc           mouse                 N/A           N/A   \n",
       " 31         Hmgn2           mouse  ENSMUSG00000003038           N/A   \n",
       " 32         H2afx           mouse                 N/A           N/A   \n",
       " 33         Gsta4           mouse  ENSMUSG00000032348           N/A   \n",
       " 34        Myl12a           mouse  ENSMUSG00000117098           N/A   \n",
       " 35       Col24a1           mouse  ENSMUSG00000028197           N/A   \n",
       " 36          Gja1           mouse  ENSMUSG00000050953           N/A   \n",
       " 37        Lrrc8a           mouse  ENSMUSG00000099041           N/A   \n",
       " 38        Sssca1           mouse                 N/A           N/A   \n",
       " 39         Lrch4           mouse  ENSMUSG00000029720           N/A   \n",
       " 40       Gm49368           mouse  ENSMUSG00000108596           N/A   \n",
       " 41           Pzp           mouse  ENSMUSG00000030359           N/A   \n",
       " 42         Gnao1           mouse  ENSMUSG00000031748           N/A   \n",
       " 43          Gnaq           mouse  ENSMUSG00000024639           N/A   \n",
       " 44        Wfdc17           mouse  ENSMUSG00000069792           N/A   \n",
       " \n",
       "    target_symbol target_organism description  \n",
       " 0            N/A           human         N/A  \n",
       " 1            N/A           human         N/A  \n",
       " 2            N/A           human         N/A  \n",
       " 3            N/A           human         N/A  \n",
       " 4            N/A           human         N/A  \n",
       " 5            N/A           human         N/A  \n",
       " 6            N/A           human         N/A  \n",
       " 7            N/A           human         N/A  \n",
       " 8            N/A           human         N/A  \n",
       " 9            N/A           human         N/A  \n",
       " 10           N/A           human         N/A  \n",
       " 11           N/A           human         N/A  \n",
       " 12           N/A           human         N/A  \n",
       " 13           N/A           human         N/A  \n",
       " 14           N/A           human         N/A  \n",
       " 15           N/A           human         N/A  \n",
       " 16           N/A           human         N/A  \n",
       " 17           N/A           human         N/A  \n",
       " 18           N/A           human         N/A  \n",
       " 19           N/A           human         N/A  \n",
       " 20           N/A           human         N/A  \n",
       " 21           N/A           human         N/A  \n",
       " 22           N/A           human         N/A  \n",
       " 23           N/A           human         N/A  \n",
       " 24           N/A           human         N/A  \n",
       " 25           N/A           human         N/A  \n",
       " 26           N/A           human         N/A  \n",
       " 27           N/A           human         N/A  \n",
       " 28           N/A           human         N/A  \n",
       " 29           N/A           human         N/A  \n",
       " 30           N/A           human         N/A  \n",
       " 31           N/A           human         N/A  \n",
       " 32           N/A           human         N/A  \n",
       " 33           N/A           human         N/A  \n",
       " 34           N/A           human         N/A  \n",
       " 35           N/A           human         N/A  \n",
       " 36           N/A           human         N/A  \n",
       " 37           N/A           human         N/A  \n",
       " 38           N/A           human         N/A  \n",
       " 39           N/A           human         N/A  \n",
       " 40           N/A           human         N/A  \n",
       " 41           N/A           human         N/A  \n",
       " 42           N/A           human         N/A  \n",
       " 43           N/A           human         N/A  \n",
       " 44           N/A           human         N/A  }"
      ]
     },
     "execution_count": 4,
     "metadata": {},
     "output_type": "execute_result"
    }
   ],
   "source": [
    "mo_data, mo_log_dict = mo.map_orthologs(data = rdg_data, gene_column = gene_column, organism = source_organism,\n",
    "                                           tar_organism = tar_organism, keep_empty = keep_empty, \n",
    "                                            res_column = res_column)\n",
    "mo_log_dict"
   ]
  },
  {
   "cell_type": "code",
   "execution_count": 6,
   "metadata": {},
   "outputs": [
    {
     "data": {
      "text/plain": [
       "''"
      ]
     },
     "execution_count": 6,
     "metadata": {},
     "output_type": "execute_result"
    }
   ],
   "source": [
    "pt.create_overview_plot(rdg_log_dict[\"Overview_Log\"], out_dir = out_dir)"
   ]
  },
  {
   "cell_type": "code",
   "execution_count": 7,
   "metadata": {},
   "outputs": [
    {
     "data": {
      "text/plain": [
       "''"
      ]
     },
     "execution_count": 7,
     "metadata": {},
     "output_type": "execute_result"
    }
   ],
   "source": [
    "pt.create_ortholog_detailed_plot(rdg_log_dict[\"Detailed_Log\"], organism = organism out_dir = out_dir)"
   ]
  },
  {
   "cell_type": "markdown",
   "metadata": {},
   "source": [
    "#### 5.4 Inspect Logging"
   ]
  },
  {
   "cell_type": "code",
   "execution_count": null,
   "metadata": {},
   "outputs": [],
   "source": [
    "pt.create_overview_plot(mo_log_dict[\"Overview_Log\"], out_dir = out_dir)"
   ]
  },
  {
   "cell_type": "code",
   "execution_count": null,
   "metadata": {},
   "outputs": [],
   "source": [
    "pt.create_ortholog_detailed_plot(mo_log_dict[\"Detailed_Log\"], organism = source_organism, out_dir = out_dir)"
   ]
  },
  {
   "cell_type": "markdown",
   "metadata": {},
   "source": [
    "#  Test>"
   ]
  },
  {
   "cell_type": "code",
   "execution_count": 1,
   "metadata": {},
   "outputs": [],
   "source": [
    "import sys\n",
    "import pandas as pd\n",
    "from pathlib import Path\n",
    "sys.path.append(str(Path.cwd().parent))\n",
    "import remap_genenames as rmg"
   ]
  },
  {
   "cell_type": "code",
   "execution_count": 6,
   "metadata": {},
   "outputs": [],
   "source": [
    "fi_data = pd.read_csv(\"Filter-Calciolari_2017_filtered.csv\")\n",
    "# mandatory\n",
    "mode = \"uniprot_primary\" # Mode of refilling. See below for more infos.\n",
    "protein_column = \"Filtered Protein IDs\" # Name of column with protein IDs\n",
    "\n",
    "# optional\n",
    "gene_column = \"Gene names\" # Name of column with gene names\n",
    "skip_filled = False # Bool to indicate if already filled gene names should be skipped\n",
    "organism = \"rat\" # Specify organism the IDs should match to\n",
    "fasta = None # Path of Fasta file when mode all or fasta\n",
    "keep_empty = True # Bool to indicate if empty gene names cells should be kept or deleted\n",
    "res_column = None # Name of column for remap gene names results. If None, the gene_column will be overridden"
   ]
  },
  {
   "cell_type": "code",
   "execution_count": 7,
   "metadata": {},
   "outputs": [],
   "source": [
    "#fi_data[fi_data[\"Filtered Protein IDs\"].isna()]"
   ]
  },
  {
   "cell_type": "code",
   "execution_count": 8,
   "metadata": {},
   "outputs": [
    {
     "data": {
      "text/html": [
       "<div>\n",
       "<style scoped>\n",
       "    .dataframe tbody tr th:only-of-type {\n",
       "        vertical-align: middle;\n",
       "    }\n",
       "\n",
       "    .dataframe tbody tr th {\n",
       "        vertical-align: top;\n",
       "    }\n",
       "\n",
       "    .dataframe thead th {\n",
       "        text-align: right;\n",
       "    }\n",
       "</style>\n",
       "<table border=\"1\" class=\"dataframe\">\n",
       "  <thead>\n",
       "    <tr style=\"text-align: right;\">\n",
       "      <th></th>\n",
       "      <th>Protein IDs</th>\n",
       "      <th>Filtered Protein IDs</th>\n",
       "      <th>Gene names</th>\n",
       "    </tr>\n",
       "  </thead>\n",
       "  <tbody>\n",
       "    <tr>\n",
       "      <th>0</th>\n",
       "      <td>P68035</td>\n",
       "      <td>P68035</td>\n",
       "      <td>Actc1</td>\n",
       "    </tr>\n",
       "    <tr>\n",
       "      <th>1</th>\n",
       "      <td>P62738</td>\n",
       "      <td>P62738</td>\n",
       "      <td>Acta2</td>\n",
       "    </tr>\n",
       "    <tr>\n",
       "      <th>2</th>\n",
       "      <td>P60711</td>\n",
       "      <td>P60711</td>\n",
       "      <td>Actb</td>\n",
       "    </tr>\n",
       "    <tr>\n",
       "      <th>3</th>\n",
       "      <td>P63259</td>\n",
       "      <td>P63259</td>\n",
       "      <td>Actg1</td>\n",
       "    </tr>\n",
       "    <tr>\n",
       "      <th>4</th>\n",
       "      <td>P04764</td>\n",
       "      <td>P04764</td>\n",
       "      <td>Eno1</td>\n",
       "    </tr>\n",
       "  </tbody>\n",
       "</table>\n",
       "</div>"
      ],
      "text/plain": [
       "  Protein IDs Filtered Protein IDs Gene names\n",
       "0      P68035               P68035      Actc1\n",
       "1      P62738               P62738      Acta2\n",
       "2      P60711               P60711       Actb\n",
       "3      P63259               P63259      Actg1\n",
       "4      P04764               P04764       Eno1"
      ]
     },
     "execution_count": 8,
     "metadata": {},
     "output_type": "execute_result"
    }
   ],
   "source": [
    "rmg_data, rmg_log_dict = rmg.remap_genenames(data = fi_data, mode=mode, protein_column = protein_column,\n",
    "                                            gene_column = gene_column, skip_filled = skip_filled, organism = organism, \n",
    "                                             fasta = fasta, keep_empty = keep_empty, res_column = res_column)\n",
    "rmg_data.head(5)"
   ]
  },
  {
   "cell_type": "code",
   "execution_count": 5,
   "metadata": {},
   "outputs": [
    {
     "data": {
      "text/plain": [
       "['']"
      ]
     },
     "execution_count": 5,
     "metadata": {},
     "output_type": "execute_result"
    }
   ],
   "source": [
    "import numpy as np\n",
    "#np.nan\n",
    "\"\".split(\";\")\n",
    "#pd.Series([np.nan]).dropna()"
   ]
  },
  {
   "cell_type": "code",
   "execution_count": 9,
   "metadata": {},
   "outputs": [
    {
     "data": {
      "text/html": [
       "<div>\n",
       "<style scoped>\n",
       "    .dataframe tbody tr th:only-of-type {\n",
       "        vertical-align: middle;\n",
       "    }\n",
       "\n",
       "    .dataframe tbody tr th {\n",
       "        vertical-align: top;\n",
       "    }\n",
       "\n",
       "    .dataframe thead th {\n",
       "        text-align: right;\n",
       "    }\n",
       "</style>\n",
       "<table border=\"1\" class=\"dataframe\">\n",
       "  <thead>\n",
       "    <tr style=\"text-align: right;\">\n",
       "      <th></th>\n",
       "      <th>Protein IDs</th>\n",
       "      <th>Filtered Protein IDs</th>\n",
       "      <th>Gene names</th>\n",
       "    </tr>\n",
       "  </thead>\n",
       "  <tbody>\n",
       "    <tr>\n",
       "      <th>0</th>\n",
       "      <td>P68035</td>\n",
       "      <td>P68035</td>\n",
       "      <td>Actc1</td>\n",
       "    </tr>\n",
       "    <tr>\n",
       "      <th>1</th>\n",
       "      <td>P62738</td>\n",
       "      <td>P62738</td>\n",
       "      <td>Acta2</td>\n",
       "    </tr>\n",
       "    <tr>\n",
       "      <th>2</th>\n",
       "      <td>P60711</td>\n",
       "      <td>P60711</td>\n",
       "      <td>Actb</td>\n",
       "    </tr>\n",
       "    <tr>\n",
       "      <th>3</th>\n",
       "      <td>P63259</td>\n",
       "      <td>P63259</td>\n",
       "      <td>Actg1</td>\n",
       "    </tr>\n",
       "    <tr>\n",
       "      <th>4</th>\n",
       "      <td>P04764</td>\n",
       "      <td>P04764</td>\n",
       "      <td>Eno1</td>\n",
       "    </tr>\n",
       "    <tr>\n",
       "      <th>5</th>\n",
       "      <td>M0R8A9</td>\n",
       "      <td></td>\n",
       "      <td></td>\n",
       "    </tr>\n",
       "    <tr>\n",
       "      <th>6</th>\n",
       "      <td>P02650</td>\n",
       "      <td>P02650</td>\n",
       "      <td>Apoe</td>\n",
       "    </tr>\n",
       "    <tr>\n",
       "      <th>7</th>\n",
       "      <td>B0BNA5</td>\n",
       "      <td>B0BNA5</td>\n",
       "      <td>Cotl1</td>\n",
       "    </tr>\n",
       "    <tr>\n",
       "      <th>8</th>\n",
       "      <td>Q5BK06</td>\n",
       "      <td>Q5BK06</td>\n",
       "      <td>Ccndbp1</td>\n",
       "    </tr>\n",
       "    <tr>\n",
       "      <th>9</th>\n",
       "      <td>P47967</td>\n",
       "      <td>P47967</td>\n",
       "      <td>Lgals5</td>\n",
       "    </tr>\n",
       "    <tr>\n",
       "      <th>10</th>\n",
       "      <td>P01836</td>\n",
       "      <td>P01836</td>\n",
       "      <td></td>\n",
       "    </tr>\n",
       "    <tr>\n",
       "      <th>11</th>\n",
       "      <td>O35276</td>\n",
       "      <td>O35276</td>\n",
       "      <td>Nrp2</td>\n",
       "    </tr>\n",
       "    <tr>\n",
       "      <th>12</th>\n",
       "      <td>F1M6X9</td>\n",
       "      <td>F1M6X9</td>\n",
       "      <td>Zdhhc11</td>\n",
       "    </tr>\n",
       "    <tr>\n",
       "      <th>13</th>\n",
       "      <td>Q5FVJ3</td>\n",
       "      <td>Q5FVJ3</td>\n",
       "      <td>Plpp7</td>\n",
       "    </tr>\n",
       "    <tr>\n",
       "      <th>14</th>\n",
       "      <td>F1LUA8</td>\n",
       "      <td></td>\n",
       "      <td></td>\n",
       "    </tr>\n",
       "  </tbody>\n",
       "</table>\n",
       "</div>"
      ],
      "text/plain": [
       "   Protein IDs Filtered Protein IDs Gene names\n",
       "0       P68035               P68035      Actc1\n",
       "1       P62738               P62738      Acta2\n",
       "2       P60711               P60711       Actb\n",
       "3       P63259               P63259      Actg1\n",
       "4       P04764               P04764       Eno1\n",
       "5       M0R8A9                                \n",
       "6       P02650               P02650       Apoe\n",
       "7       B0BNA5               B0BNA5      Cotl1\n",
       "8       Q5BK06               Q5BK06    Ccndbp1\n",
       "9       P47967               P47967     Lgals5\n",
       "10      P01836               P01836           \n",
       "11      O35276               O35276       Nrp2\n",
       "12      F1M6X9               F1M6X9    Zdhhc11\n",
       "13      Q5FVJ3               Q5FVJ3      Plpp7\n",
       "14      F1LUA8                                "
      ]
     },
     "execution_count": 9,
     "metadata": {},
     "output_type": "execute_result"
    }
   ],
   "source": [
    "rmg_data.head(15)"
   ]
  },
  {
   "cell_type": "code",
   "execution_count": 6,
   "metadata": {},
   "outputs": [],
   "source": [
    "url = 'https://api.drugst.one/create_network'\n",
    "myobj =  {\"network\":{'nodes': [{\"id\":gene, \"group\":\"gene\"} for gene in intersections[\"ID\"]]}}\n",
    "\n",
    "x = requests.post(url, json = myobj)"
   ]
  },
  {
   "cell_type": "code",
   "execution_count": 7,
   "metadata": {},
   "outputs": [
    {
     "data": {
      "text/plain": [
       "'https://drugst.one?id=7d95dc645f0f4a42a7f7b107e65537b9'"
      ]
     },
     "execution_count": 7,
     "metadata": {},
     "output_type": "execute_result"
    }
   ],
   "source": [
    "\"https://drugst.one?id=\"+x.json()"
   ]
  },
  {
   "cell_type": "code",
   "execution_count": null,
   "metadata": {},
   "outputs": [],
   "source": []
  }
 ],
 "metadata": {
  "kernelspec": {
   "display_name": "Python 3",
   "language": "python",
   "name": "python3"
  },
  "language_info": {
   "codemirror_mode": {
    "name": "ipython",
    "version": 3
   },
   "file_extension": ".py",
   "mimetype": "text/x-python",
   "name": "python",
   "nbconvert_exporter": "python",
   "pygments_lexer": "ipython3",
   "version": "3.8.10"
  }
 },
 "nbformat": 4,
 "nbformat_minor": 1
}
